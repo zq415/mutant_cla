{
 "cells": [
  {
   "cell_type": "code",
   "execution_count": 6,
   "metadata": {},
   "outputs": [],
   "source": [
    "import numpy as np\n",
    "import matplotlib.pyplot as plt\n",
    "import scipy\n",
    "import nibabel as nib\n",
    "import os\n",
    "from sklearn.decomposition import PCA\n",
    "import math\n",
    "from skimage import io\n",
    "import plotly.plotly as py\n",
    "from plotly.grid_objs import Grid, Column\n",
    "import time\n",
    "%matplotlib notebook\n",
    "from mpl_toolkits.mplot3d import Axes3D\n",
    "from scipy.ndimage.interpolation import rotate as rot\n",
    "import glob\n",
    "from scipy import ndimage\n",
    "from scipy.ndimage.interpolation import zoom\n",
    "import pickle\n"
   ]
  },
  {
   "cell_type": "code",
   "execution_count": 7,
   "metadata": {},
   "outputs": [],
   "source": [
    "def read_mutant_txt(path):\n",
    "    name_list = []\n",
    "    fo = open(path)\n",
    "    for line in fo:\n",
    "        striped_line = line.strip('\\n')\n",
    "        if striped_line != '':\n",
    "            name_list.append(striped_line)\n",
    "    return name_list"
   ]
  },
  {
   "cell_type": "code",
   "execution_count": 8,
   "metadata": {},
   "outputs": [
    {
     "name": "stdout",
     "output_type": "stream",
     "text": [
      "368\n",
      "564\n"
     ]
    }
   ],
   "source": [
    "data_base_path = '/scratch/zq415/grammar_cor/Localization/data'\n",
    "data_folder_list = ['20180419_newdata_nii_with_filtered', 'new_data_20180522_nii']\n",
    "data_folder_list2 = 'fix_organized_data_nii'\n",
    "\n",
    "all_BVs = []\n",
    "for cur_floder in data_folder_list:\n",
    "    cur_folder_path = os.path.join(data_base_path,cur_floder)\n",
    "    all_BVs += glob.glob(cur_folder_path+'/*/*/*[Bb][Vv]*')\n",
    "print(len(all_BVs))\n",
    "\n",
    "cur_folder_path = os.path.join(data_base_path,data_folder_list2)\n",
    "all_BVs += glob.glob(cur_folder_path+'/*[Bb][Vv]*')\n",
    "print(len(all_BVs))\n",
    "\n",
    "all_data_list = []\n",
    "same_name_num = 0\n",
    "for full_bv_path in all_BVs:\n",
    "    if 'BV' in full_bv_path:\n",
    "        all_data_list.append((full_bv_path[:-14] + '.nii', full_bv_path))\n",
    "    else:\n",
    "        all_data_list.append((full_bv_path[:-9]+ '_2' + '.nii', full_bv_path))"
   ]
  },
  {
   "cell_type": "code",
   "execution_count": 9,
   "metadata": {},
   "outputs": [],
   "source": [
    "mutant_names = read_mutant_txt('mutant_imgs.txt')"
   ]
  },
  {
   "cell_type": "code",
   "execution_count": 36,
   "metadata": {},
   "outputs": [],
   "source": [
    "mutant_bv_list = []\n",
    "normal_bv_list = []\n",
    "cur_mutant_names = []\n",
    "for i_bv in all_BVs:\n",
    "    cur_bv = nib.load(i_bv)\n",
    "    cur_bv = np.uint8(cur_bv.get_data())\n",
    "    if 'prebv' in os.path.basename(i_bv) and os.path.basename(i_bv)[:-9] in mutant_names:\n",
    "        cur_mutant_names.append(os.path.basename(i_bv)[:-9])\n",
    "        mutant_bv_list.append(cur_bv)\n",
    "    elif 'prebv' not in os.path.basename(i_bv) and os.path.basename(i_bv)[:-14] in mutant_names:\n",
    "        cur_mutant_names.append(os.path.basename(i_bv)[:-14])\n",
    "        mutant_bv_list.append(cur_bv)\n",
    "    else:\n",
    "        normal_bv_list.append(cur_bv)"
   ]
  },
  {
   "cell_type": "code",
   "execution_count": 42,
   "metadata": {},
   "outputs": [],
   "source": [
    "mutant_vol_list = []\n",
    "normal_vol_list = []\n",
    "for i in mutant_bv_list:\n",
    "    mutant_vol_list.append(np.sum(i))\n",
    "\n",
    "for i in normal_bv_list:\n",
    "    normal_vol_list.append(np.sum(i))"
   ]
  },
  {
   "cell_type": "code",
   "execution_count": 48,
   "metadata": {},
   "outputs": [
    {
     "name": "stdout",
     "output_type": "stream",
     "text": [
      "24232.4257426 7752.84196036 101\n"
     ]
    }
   ],
   "source": [
    "print(np.mean(mutant_vol_list), np.std(mutant_vol_list), len(mutant_vol_list))"
   ]
  },
  {
   "cell_type": "code",
   "execution_count": 49,
   "metadata": {},
   "outputs": [
    {
     "name": "stdout",
     "output_type": "stream",
     "text": [
      "25201.5507559 7392.61231934 463\n"
     ]
    }
   ],
   "source": [
    "print(np.mean(normal_vol_list), np.std(normal_vol_list), len(normal_vol_list))"
   ]
  },
  {
   "cell_type": "code",
   "execution_count": null,
   "metadata": {},
   "outputs": [],
   "source": []
  }
 ],
 "metadata": {
  "kernelspec": {
   "display_name": "Python 3",
   "language": "python",
   "name": "python3"
  },
  "language_info": {
   "codemirror_mode": {
    "name": "ipython",
    "version": 3
   },
   "file_extension": ".py",
   "mimetype": "text/x-python",
   "name": "python",
   "nbconvert_exporter": "python",
   "pygments_lexer": "ipython3",
   "version": "3.6.3"
  }
 },
 "nbformat": 4,
 "nbformat_minor": 2
}
