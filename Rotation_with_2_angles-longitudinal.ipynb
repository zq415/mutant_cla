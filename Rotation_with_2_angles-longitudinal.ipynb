{
 "cells": [
  {
   "cell_type": "code",
   "execution_count": 1,
   "metadata": {},
   "outputs": [],
   "source": [
    "import numpy as np\n",
    "import matplotlib.pyplot as plt\n",
    "import scipy\n",
    "import nibabel as nib\n",
    "import os\n",
    "from sklearn.decomposition import PCA\n",
    "import math\n",
    "from skimage import io\n",
    "import plotly.plotly as py\n",
    "from plotly.grid_objs import Grid, Column\n",
    "import time\n",
    "%matplotlib notebook\n",
    "from mpl_toolkits.mplot3d import Axes3D\n",
    "from scipy.ndimage.interpolation import rotate as rot\n",
    "import glob\n",
    "from scipy import ndimage\n",
    "from scipy.ndimage.interpolation import zoom\n",
    "import pickle\n",
    "from skimage import measure"
   ]
  },
  {
   "cell_type": "code",
   "execution_count": 2,
   "metadata": {
    "scrolled": false
   },
   "outputs": [],
   "source": [
    "def read_mutant_txt(path):\n",
    "    name_list = []\n",
    "    fo = open(path)\n",
    "    for line in fo:\n",
    "        striped_line = line.strip('\\n')\n",
    "        if striped_line != '':\n",
    "            name_list.append(striped_line)\n",
    "    return name_list\n",
    "\n",
    "def l2norm(a,b):\n",
    "    return np.sqrt(a**2+b**2)\n",
    "\n",
    "\n",
    "def align_img(bv_label):\n",
    "    x,y,z = np.where(bv_label==1)\n",
    "    points = np.vstack((x,y,z))\n",
    "    points = points.T\n",
    "    #print(points.shape)\n",
    "    pca = PCA(n_components = 3)\n",
    "    pca.fit(points)\n",
    "    pc1 = pca.components_[0,:]\n",
    "    #print(pc1)\n",
    "    pc2 = pca.components_[1,:]\n",
    "    if pc1[0] >=0 and pc1[1] >=0:\n",
    "        azimuth = -np.arctan(pc1[1]/pc1[0])*(360/(2*np.pi))\n",
    "    #print('case1')\n",
    "#     clockwise = 1\n",
    "\n",
    "    elif pc1[0] <=0 and pc1[1] <=0:\n",
    "        azimuth = (180 - np.arctan(pc1[1]/pc1[0])*(360/(2*np.pi)))\n",
    "    #    print('case2')\n",
    "    #     anticlockwise = 1\n",
    "\n",
    "    elif pc1[0]>=0 and pc1[1]<=0:\n",
    "        azimuth = np.arctan(np.abs(pc1[1])/np.abs(pc1[0]))*(360/(2*np.pi))\n",
    "    #    print('case3')\n",
    "    #     anticlockwise = 1\n",
    "    else:\n",
    "        azimuth = -(90 + np.arctan(np.abs(pc1[0])/np.abs(pc1[1]))*(360/(2*np.pi)))\n",
    "    #    print('case4')\n",
    "    #     clockwise = 1\n",
    "\n",
    "    # finding the elevation angle\n",
    "    if pc1[2]>=0:\n",
    "        elevation = -np.arctan(pc1[2]/l2norm(pc1[0],pc1[1]))*(360/(2*np.pi))\n",
    "     #   print('case1')\n",
    "    else:\n",
    "        elevation = np.arctan(np.abs(pc1[2])/l2norm(pc1[0],pc1[1]))*(360/(2*np.pi))\n",
    "     #   print('case2')\n",
    "   \n",
    "    bv_label_copy = bv_label.copy()\n",
    "    label_rot1 = rot(bv_label_copy,angle=azimuth,axes=(0,1))\n",
    "    label_rot = rot(label_rot1,angle=elevation,axes=(0,2))\n",
    "    \n",
    "    xr,yr,zr = np.where(label_rot==1)\n",
    "    points_rot = np.vstack((xr,yr,zr))\n",
    "    points_rot = points_rot.T\n",
    "    #print(points_rot.shape)\n",
    "    pca_rot = PCA(n_components = 3)\n",
    "    pca_rot.fit(points_rot)\n",
    "    pc1r = pca_rot.components_[0,:]\n",
    "    pc2r = pca_rot.components_[1,:]\n",
    "    \n",
    "    angle3 = np.arctan(pc2r[2]/pc2r[1])*(360/(2*np.pi))\n",
    "    \n",
    "    label_rot = rot(label_rot,angle=-angle3,axes=(1,2))\n",
    "    \n",
    "    return azimuth, elevation, angle3, label_rot\n",
    "\n",
    "def save_img(img, label, count):\n",
    "    img_nft = nib.Nifti1Image(img,np.eye(4))\n",
    "    img_save_data_path = './resize_img/img{}.nii'.format(count)\n",
    "    nib.save(img_nft,img_save_data_path)\n",
    "    \n",
    "    img_nft = nib.Nifti1Image(label,np.eye(4))\n",
    "    img_save_data_path = './resize_img/label{}.nii'.format(count)\n",
    "    nib.save(img_nft,img_save_data_path)\n",
    "    "
   ]
  },
  {
   "cell_type": "code",
   "execution_count": 3,
   "metadata": {},
   "outputs": [
    {
     "name": "stdout",
     "output_type": "stream",
     "text": [
      "433\n"
     ]
    }
   ],
   "source": [
    "data_base_path = '/scratch/zq415/grammar_cor/mutant_detect/mutant_cla/data/logitudinal'\n",
    "data_folder_list = ['2016', '2017', '2018']\n",
    "# data_folder_list2 = 'fix_organized_data_nii'\n",
    "\n",
    "all_BVs = []\n",
    "for cur_floder in data_folder_list:\n",
    "    cur_folder_path = os.path.join(data_base_path,cur_floder)\n",
    "    all_BVs += glob.glob(cur_folder_path+'/*BV*')\n",
    "print(len(all_BVs))"
   ]
  },
  {
   "cell_type": "code",
   "execution_count": null,
   "metadata": {},
   "outputs": [
    {
     "name": "stdout",
     "output_type": "stream",
     "text": [
      "(201, 150, 201)\n",
      "0 bv size:  87 56 41\n",
      "(261, 180, 281)\n",
      "1 bv size:  181 112 80\n",
      "(241, 180, 241)\n",
      "2 bv size:  97 58 46\n"
     ]
    },
    {
     "name": "stderr",
     "output_type": "stream",
     "text": [
      "/share/apps/python3/3.6.3/intel/lib/python3.6/site-packages/scipy-1.0.0rc1-py3.6-linux-x86_64.egg/scipy/ndimage/interpolation.py:616: UserWarning:\n",
      "\n",
      "From scipy 0.13.0, the output shape of zoom() is calculated with round() instead of int() - for these inputs the size of the returned array has changed.\n",
      "\n"
     ]
    },
    {
     "name": "stdout",
     "output_type": "stream",
     "text": [
      "(241, 210, 281)\n",
      "3 bv size:  182 94 84\n",
      "(221, 180, 241)\n",
      "4 bv size:  109 68 53\n",
      "(241, 180, 241)\n",
      "5 bv size:  108 58 55\n",
      "(261, 210, 241)\n",
      "6 bv size:  107 50 52\n"
     ]
    },
    {
     "name": "stderr",
     "output_type": "stream",
     "text": [
      "/share/apps/python3/3.6.3/intel/lib/python3.6/site-packages/scipy-1.0.0rc1-py3.6-linux-x86_64.egg/scipy/ndimage/interpolation.py:616: UserWarning:\n",
      "\n",
      "From scipy 0.13.0, the output shape of zoom() is calculated with round() instead of int() - for these inputs the size of the returned array has changed.\n",
      "\n"
     ]
    },
    {
     "name": "stdout",
     "output_type": "stream",
     "text": [
      "(201, 180, 201)\n",
      "7 bv size:  98 45 40\n",
      "(240, 180, 241)\n",
      "8 bv size:  108 56 52\n",
      "(221, 180, 241)\n",
      "9 bv size:  101 61 50\n",
      "(261, 210, 241)\n",
      "10 bv size:  103 62 43\n",
      "(302, 180, 261)\n",
      "11 bv size:  105 110 52\n",
      "(201, 180, 241)\n",
      "12 bv size:  99 65 52\n",
      "(302, 180, 261)\n",
      "13 bv size:  103 99 49\n"
     ]
    },
    {
     "name": "stderr",
     "output_type": "stream",
     "text": [
      "/share/apps/python3/3.6.3/intel/lib/python3.6/site-packages/scipy-1.0.0rc1-py3.6-linux-x86_64.egg/scipy/ndimage/interpolation.py:616: UserWarning:\n",
      "\n",
      "From scipy 0.13.0, the output shape of zoom() is calculated with round() instead of int() - for these inputs the size of the returned array has changed.\n",
      "\n"
     ]
    },
    {
     "name": "stdout",
     "output_type": "stream",
     "text": [
      "(241, 180, 241)\n",
      "14 bv size:  111 57 48\n"
     ]
    },
    {
     "name": "stderr",
     "output_type": "stream",
     "text": [
      "/share/apps/python3/3.6.3/intel/lib/python3.6/site-packages/scipy-1.0.0rc1-py3.6-linux-x86_64.egg/scipy/ndimage/interpolation.py:616: UserWarning:\n",
      "\n",
      "From scipy 0.13.0, the output shape of zoom() is calculated with round() instead of int() - for these inputs the size of the returned array has changed.\n",
      "\n"
     ]
    },
    {
     "name": "stdout",
     "output_type": "stream",
     "text": [
      "(141, 180, 161)\n",
      "15 bv size:  75 63 37\n",
      "(241, 180, 241)\n",
      "16 bv size:  109 58 49\n"
     ]
    },
    {
     "name": "stderr",
     "output_type": "stream",
     "text": [
      "/share/apps/python3/3.6.3/intel/lib/python3.6/site-packages/scipy-1.0.0rc1-py3.6-linux-x86_64.egg/scipy/ndimage/interpolation.py:616: UserWarning:\n",
      "\n",
      "From scipy 0.13.0, the output shape of zoom() is calculated with round() instead of int() - for these inputs the size of the returned array has changed.\n",
      "\n"
     ]
    },
    {
     "name": "stdout",
     "output_type": "stream",
     "text": [
      "(201, 180, 241)\n",
      "17 bv size:  101 48 50\n",
      "(241, 180, 241)\n",
      "18 bv size:  97 52 49\n"
     ]
    },
    {
     "name": "stderr",
     "output_type": "stream",
     "text": [
      "/share/apps/python3/3.6.3/intel/lib/python3.6/site-packages/scipy-1.0.0rc1-py3.6-linux-x86_64.egg/scipy/ndimage/interpolation.py:616: UserWarning:\n",
      "\n",
      "From scipy 0.13.0, the output shape of zoom() is calculated with round() instead of int() - for these inputs the size of the returned array has changed.\n",
      "\n"
     ]
    },
    {
     "name": "stdout",
     "output_type": "stream",
     "text": [
      "(221, 180, 281)\n",
      "19 bv size:  104 63 54\n",
      "(221, 180, 281)\n",
      "20 bv size:  99 57 51\n",
      "(161, 150, 221)\n",
      "21 bv size:  98 60 43\n",
      "(281, 180, 241)\n",
      "22 bv size:  113 53 59\n",
      "(241, 180, 241)\n",
      "23 bv size:  100 55 47\n",
      "(241, 210, 281)\n",
      "24 bv size:  101 55 57\n",
      "(221, 180, 241)\n",
      "25 bv size:  89 67 47\n",
      "(121, 180, 201)\n",
      "26 bv size:  80 49 46\n"
     ]
    },
    {
     "name": "stderr",
     "output_type": "stream",
     "text": [
      "/share/apps/python3/3.6.3/intel/lib/python3.6/site-packages/scipy-1.0.0rc1-py3.6-linux-x86_64.egg/scipy/ndimage/interpolation.py:616: UserWarning:\n",
      "\n",
      "From scipy 0.13.0, the output shape of zoom() is calculated with round() instead of int() - for these inputs the size of the returned array has changed.\n",
      "\n"
     ]
    },
    {
     "name": "stdout",
     "output_type": "stream",
     "text": [
      "(241, 180, 241)\n",
      "27 bv size:  96 62 47\n",
      "(201, 180, 241)\n",
      "28 bv size:  103 53 45\n",
      "(221, 180, 201)\n",
      "29 bv size:  93 51 50\n",
      "(302, 180, 261)\n",
      "30 bv size:  100 66 54\n",
      "(241, 180, 241)\n",
      "31 bv size:  68 42 41\n",
      "(261, 180, 241)\n",
      "32 bv size:  108 57 57\n",
      "(141, 150, 221)\n",
      "33 bv size:  80 54 42\n",
      "(261, 210, 241)\n",
      "34 bv size:  110 99 35\n"
     ]
    },
    {
     "name": "stderr",
     "output_type": "stream",
     "text": [
      "/share/apps/python3/3.6.3/intel/lib/python3.6/site-packages/scipy-1.0.0rc1-py3.6-linux-x86_64.egg/scipy/ndimage/interpolation.py:616: UserWarning:\n",
      "\n",
      "From scipy 0.13.0, the output shape of zoom() is calculated with round() instead of int() - for these inputs the size of the returned array has changed.\n",
      "\n"
     ]
    },
    {
     "name": "stdout",
     "output_type": "stream",
     "text": [
      "(281, 180, 281)\n",
      "35 bv size:  77 58 52\n",
      "(261, 192, 221)\n",
      "36 bv size:  105 57 61\n",
      "(261, 180, 281)\n",
      "37 bv size:  109 51 55\n",
      "(281, 180, 281)\n",
      "38 bv size:  112 58 59\n",
      "(241, 180, 241)\n",
      "39 bv size:  99 57 48\n",
      "(201, 150, 201)\n",
      "40 bv size:  85 59 42\n",
      "(221, 180, 241)\n",
      "41 bv size:  107 56 52\n"
     ]
    },
    {
     "name": "stderr",
     "output_type": "stream",
     "text": [
      "/share/apps/python3/3.6.3/intel/lib/python3.6/site-packages/scipy-1.0.0rc1-py3.6-linux-x86_64.egg/scipy/ndimage/interpolation.py:616: UserWarning:\n",
      "\n",
      "From scipy 0.13.0, the output shape of zoom() is calculated with round() instead of int() - for these inputs the size of the returned array has changed.\n",
      "\n"
     ]
    },
    {
     "name": "stdout",
     "output_type": "stream",
     "text": [
      "(241, 180, 241)\n",
      "42 bv size:  97 67 49\n"
     ]
    },
    {
     "name": "stderr",
     "output_type": "stream",
     "text": [
      "/share/apps/python3/3.6.3/intel/lib/python3.6/site-packages/scipy-1.0.0rc1-py3.6-linux-x86_64.egg/scipy/ndimage/interpolation.py:616: UserWarning:\n",
      "\n",
      "From scipy 0.13.0, the output shape of zoom() is calculated with round() instead of int() - for these inputs the size of the returned array has changed.\n",
      "\n"
     ]
    },
    {
     "name": "stdout",
     "output_type": "stream",
     "text": [
      "(241, 180, 201)\n",
      "43 bv size:  78 52 46\n",
      "(281, 210, 241)\n",
      "44 bv size:  189 100 49\n"
     ]
    },
    {
     "name": "stderr",
     "output_type": "stream",
     "text": [
      "/share/apps/python3/3.6.3/intel/lib/python3.6/site-packages/scipy-1.0.0rc1-py3.6-linux-x86_64.egg/scipy/ndimage/interpolation.py:616: UserWarning:\n",
      "\n",
      "From scipy 0.13.0, the output shape of zoom() is calculated with round() instead of int() - for these inputs the size of the returned array has changed.\n",
      "\n"
     ]
    },
    {
     "name": "stdout",
     "output_type": "stream",
     "text": [
      "(241, 180, 241)\n",
      "45 bv size:  103 58 59\n",
      "(241, 180, 241)\n",
      "46 bv size:  99 57 53\n",
      "(241, 180, 241)\n",
      "47 bv size:  105 57 50\n",
      "(261, 210, 241)\n",
      "48 bv size:  102 66 63\n",
      "(241, 210, 241)\n",
      "49 bv size:  98 108 51\n",
      "(241, 180, 241)\n",
      "50 bv size:  108 56 48\n",
      "(261, 210, 241)\n",
      "51 bv size:  120 110 52\n",
      "(261, 210, 241)\n",
      "52 bv size:  107 99 58\n"
     ]
    },
    {
     "name": "stderr",
     "output_type": "stream",
     "text": [
      "/share/apps/python3/3.6.3/intel/lib/python3.6/site-packages/scipy-1.0.0rc1-py3.6-linux-x86_64.egg/scipy/ndimage/interpolation.py:616: UserWarning:\n",
      "\n",
      "From scipy 0.13.0, the output shape of zoom() is calculated with round() instead of int() - for these inputs the size of the returned array has changed.\n",
      "\n"
     ]
    },
    {
     "name": "stdout",
     "output_type": "stream",
     "text": [
      "(221, 180, 241)\n",
      "53 bv size:  109 55 53\n",
      "(261, 180, 261)\n",
      "54 bv size:  107 57 60\n"
     ]
    },
    {
     "name": "stderr",
     "output_type": "stream",
     "text": [
      "/share/apps/python3/3.6.3/intel/lib/python3.6/site-packages/scipy-1.0.0rc1-py3.6-linux-x86_64.egg/scipy/ndimage/interpolation.py:616: UserWarning:\n",
      "\n",
      "From scipy 0.13.0, the output shape of zoom() is calculated with round() instead of int() - for these inputs the size of the returned array has changed.\n",
      "\n"
     ]
    },
    {
     "name": "stdout",
     "output_type": "stream",
     "text": [
      "(221, 180, 241)\n",
      "55 bv size:  183 77 56\n",
      "(161, 180, 201)\n",
      "56 bv size:  97 56 45\n"
     ]
    },
    {
     "name": "stderr",
     "output_type": "stream",
     "text": [
      "/share/apps/python3/3.6.3/intel/lib/python3.6/site-packages/scipy-1.0.0rc1-py3.6-linux-x86_64.egg/scipy/ndimage/interpolation.py:616: UserWarning:\n",
      "\n",
      "From scipy 0.13.0, the output shape of zoom() is calculated with round() instead of int() - for these inputs the size of the returned array has changed.\n",
      "\n"
     ]
    },
    {
     "name": "stdout",
     "output_type": "stream",
     "text": [
      "(241, 180, 241)\n",
      "57 bv size:  87 61 51\n",
      "(281, 210, 241)\n",
      "58 bv size:  189 101 50\n",
      "(121, 180, 241)\n",
      "59 bv size:  102 65 51\n",
      "(221, 180, 241)\n",
      "60 bv size:  97 54 57\n"
     ]
    },
    {
     "name": "stderr",
     "output_type": "stream",
     "text": [
      "/share/apps/python3/3.6.3/intel/lib/python3.6/site-packages/scipy-1.0.0rc1-py3.6-linux-x86_64.egg/scipy/ndimage/interpolation.py:616: UserWarning:\n",
      "\n",
      "From scipy 0.13.0, the output shape of zoom() is calculated with round() instead of int() - for these inputs the size of the returned array has changed.\n",
      "\n"
     ]
    },
    {
     "name": "stdout",
     "output_type": "stream",
     "text": [
      "(181, 180, 201)\n",
      "61 bv size:  71 45 36\n"
     ]
    },
    {
     "name": "stderr",
     "output_type": "stream",
     "text": [
      "/share/apps/python3/3.6.3/intel/lib/python3.6/site-packages/scipy-1.0.0rc1-py3.6-linux-x86_64.egg/scipy/ndimage/interpolation.py:616: UserWarning:\n",
      "\n",
      "From scipy 0.13.0, the output shape of zoom() is calculated with round() instead of int() - for these inputs the size of the returned array has changed.\n",
      "\n"
     ]
    },
    {
     "name": "stdout",
     "output_type": "stream",
     "text": [
      "(201, 180, 201)\n",
      "62 bv size:  97 45 41\n"
     ]
    },
    {
     "name": "stderr",
     "output_type": "stream",
     "text": [
      "/share/apps/python3/3.6.3/intel/lib/python3.6/site-packages/scipy-1.0.0rc1-py3.6-linux-x86_64.egg/scipy/ndimage/interpolation.py:616: UserWarning:\n",
      "\n",
      "From scipy 0.13.0, the output shape of zoom() is calculated with round() instead of int() - for these inputs the size of the returned array has changed.\n",
      "\n"
     ]
    },
    {
     "name": "stdout",
     "output_type": "stream",
     "text": [
      "(201, 180, 241)\n",
      "63 bv size:  111 59 51\n"
     ]
    },
    {
     "name": "stderr",
     "output_type": "stream",
     "text": [
      "/share/apps/python3/3.6.3/intel/lib/python3.6/site-packages/scipy-1.0.0rc1-py3.6-linux-x86_64.egg/scipy/ndimage/interpolation.py:616: UserWarning:\n",
      "\n",
      "From scipy 0.13.0, the output shape of zoom() is calculated with round() instead of int() - for these inputs the size of the returned array has changed.\n",
      "\n"
     ]
    },
    {
     "name": "stdout",
     "output_type": "stream",
     "text": [
      "(261, 180, 281)\n",
      "64 bv size:  109 56 60\n",
      "(261, 210, 241)\n",
      "65 bv size:  110 107 105\n"
     ]
    },
    {
     "name": "stderr",
     "output_type": "stream",
     "text": [
      "/share/apps/python3/3.6.3/intel/lib/python3.6/site-packages/scipy-1.0.0rc1-py3.6-linux-x86_64.egg/scipy/ndimage/interpolation.py:616: UserWarning:\n",
      "\n",
      "From scipy 0.13.0, the output shape of zoom() is calculated with round() instead of int() - for these inputs the size of the returned array has changed.\n",
      "\n"
     ]
    },
    {
     "name": "stdout",
     "output_type": "stream",
     "text": [
      "(201, 180, 241)\n",
      "66 bv size:  72 62 41\n",
      "(161, 180, 201)\n",
      "67 bv size:  84 65 42\n",
      "(221, 180, 241)\n",
      "68 bv size:  101 63 52\n",
      "(261, 210, 241)\n",
      "69 bv size:  122 59 45\n",
      "(332, 180, 261)\n",
      "70 bv size:  104 88 59\n",
      "(201, 180, 201)\n",
      "71 bv size:  97 46 44\n"
     ]
    },
    {
     "name": "stderr",
     "output_type": "stream",
     "text": [
      "/share/apps/python3/3.6.3/intel/lib/python3.6/site-packages/scipy-1.0.0rc1-py3.6-linux-x86_64.egg/scipy/ndimage/interpolation.py:616: UserWarning:\n",
      "\n",
      "From scipy 0.13.0, the output shape of zoom() is calculated with round() instead of int() - for these inputs the size of the returned array has changed.\n",
      "\n"
     ]
    },
    {
     "name": "stdout",
     "output_type": "stream",
     "text": [
      "(281, 210, 241)\n",
      "72 bv size:  102 91 55\n",
      "(221, 180, 241)\n",
      "73 bv size:  105 57 63\n",
      "(221, 180, 281)\n",
      "74 bv size:  102 67 63\n",
      "(241, 180, 241)\n",
      "75 bv size:  99 57 48\n",
      "(281, 210, 241)\n",
      "76 bv size:  167 121 49\n"
     ]
    },
    {
     "name": "stderr",
     "output_type": "stream",
     "text": [
      "/share/apps/python3/3.6.3/intel/lib/python3.6/site-packages/scipy-1.0.0rc1-py3.6-linux-x86_64.egg/scipy/ndimage/interpolation.py:616: UserWarning:\n",
      "\n",
      "From scipy 0.13.0, the output shape of zoom() is calculated with round() instead of int() - for these inputs the size of the returned array has changed.\n",
      "\n"
     ]
    },
    {
     "name": "stdout",
     "output_type": "stream",
     "text": [
      "(161, 180, 241)\n",
      "77 bv size:  96 69 51\n",
      "(241, 210, 281)\n",
      "78 bv size:  189 109 84\n",
      "(241, 180, 241)\n",
      "79 bv size:  99 60 51\n",
      "(241, 210, 281)\n",
      "80 bv size:  104 55 56\n",
      "(261, 210, 241)\n",
      "81 bv size:  102 53 60\n",
      "(281, 180, 241)\n",
      "82 bv size:  100 55 57\n",
      "(221, 180, 241)\n",
      "83 bv size:  90 60 47\n",
      "(261, 180, 241)\n",
      "84 bv size:  102 59 60\n",
      "(281, 180, 281)\n",
      "85 bv size:  126 71 49\n"
     ]
    },
    {
     "name": "stderr",
     "output_type": "stream",
     "text": [
      "/share/apps/python3/3.6.3/intel/lib/python3.6/site-packages/scipy-1.0.0rc1-py3.6-linux-x86_64.egg/scipy/ndimage/interpolation.py:616: UserWarning:\n",
      "\n",
      "From scipy 0.13.0, the output shape of zoom() is calculated with round() instead of int() - for these inputs the size of the returned array has changed.\n",
      "\n"
     ]
    },
    {
     "name": "stdout",
     "output_type": "stream",
     "text": [
      "(201, 180, 241)\n",
      "86 bv size:  98 48 50\n",
      "(261, 180, 241)\n",
      "87 bv size:  108 58 51\n",
      "(261, 210, 241)\n",
      "88 bv size:  164 112 84\n",
      "(362, 180, 261)\n",
      "89 bv size:  105 95 71\n",
      "(241, 180, 201)\n",
      "90 bv size:  128 93 58\n",
      "(202, 180, 281)\n",
      "91 bv size:  118 59 50\n",
      "(122, 150, 201)\n",
      "92 bv size:  77 51 42\n",
      "(181, 180, 261)\n",
      "93 bv size:  109 53 55\n",
      "(241, 210, 281)\n",
      "94 bv size:  103 61 61\n",
      "(161, 181, 241)\n",
      "95 bv size:  98 57 48\n",
      "(161, 180, 161)\n",
      "96 bv size:  73 60 33\n",
      "(261, 180, 241)\n",
      "97 bv size:  108 58 58\n",
      "(201, 150, 221)\n",
      "98 bv size:  207 78 55\n"
     ]
    },
    {
     "name": "stderr",
     "output_type": "stream",
     "text": [
      "/share/apps/python3/3.6.3/intel/lib/python3.6/site-packages/scipy-1.0.0rc1-py3.6-linux-x86_64.egg/scipy/ndimage/interpolation.py:616: UserWarning:\n",
      "\n",
      "From scipy 0.13.0, the output shape of zoom() is calculated with round() instead of int() - for these inputs the size of the returned array has changed.\n",
      "\n"
     ]
    },
    {
     "name": "stdout",
     "output_type": "stream",
     "text": [
      "(281, 180, 281)\n",
      "99 bv size:  117 54 57\n",
      "(241, 180, 241)\n",
      "100 bv size:  106 58 59\n",
      "(101, 180, 241)\n",
      "101 bv size:  102 63 51\n",
      "(281, 180, 281)\n",
      "102 bv size:  112 52 53\n",
      "(141, 180, 161)\n",
      "103 bv size:  74 57 31\n",
      "(261, 210, 241)\n",
      "104 bv size:  102 53 52\n",
      "(201, 150, 201)\n",
      "105 bv size:  89 63 42\n",
      "(261, 210, 241)\n",
      "106 bv size:  107 149 105\n"
     ]
    },
    {
     "name": "stderr",
     "output_type": "stream",
     "text": [
      "/share/apps/python3/3.6.3/intel/lib/python3.6/site-packages/scipy-1.0.0rc1-py3.6-linux-x86_64.egg/scipy/ndimage/interpolation.py:616: UserWarning:\n",
      "\n",
      "From scipy 0.13.0, the output shape of zoom() is calculated with round() instead of int() - for these inputs the size of the returned array has changed.\n",
      "\n"
     ]
    },
    {
     "name": "stdout",
     "output_type": "stream",
     "text": [
      "(221, 180, 241)\n",
      "107 bv size:  102 54 48\n",
      "(241, 180, 241)\n",
      "108 bv size:  102 61 51\n",
      "(241, 180, 241)\n",
      "109 bv size:  105 63 56\n",
      "(241, 180, 241)\n",
      "110 bv size:  104 58 57\n",
      "(121, 180, 241)\n",
      "111 bv size:  101 58 49\n"
     ]
    },
    {
     "name": "stderr",
     "output_type": "stream",
     "text": [
      "/share/apps/python3/3.6.3/intel/lib/python3.6/site-packages/scipy-1.0.0rc1-py3.6-linux-x86_64.egg/scipy/ndimage/interpolation.py:616: UserWarning:\n",
      "\n",
      "From scipy 0.13.0, the output shape of zoom() is calculated with round() instead of int() - for these inputs the size of the returned array has changed.\n",
      "\n"
     ]
    },
    {
     "name": "stdout",
     "output_type": "stream",
     "text": [
      "(241, 210, 241)\n",
      "112 bv size:  108 68 52\n",
      "(221, 180, 241)\n",
      "113 bv size:  97 54 49\n"
     ]
    },
    {
     "name": "stderr",
     "output_type": "stream",
     "text": [
      "/share/apps/python3/3.6.3/intel/lib/python3.6/site-packages/scipy-1.0.0rc1-py3.6-linux-x86_64.egg/scipy/ndimage/interpolation.py:616: UserWarning:\n",
      "\n",
      "From scipy 0.13.0, the output shape of zoom() is calculated with round() instead of int() - for these inputs the size of the returned array has changed.\n",
      "\n"
     ]
    },
    {
     "name": "stdout",
     "output_type": "stream",
     "text": [
      "(221, 180, 241)\n",
      "114 bv size:  99 54 48\n",
      "(261, 210, 241)\n",
      "115 bv size:  168 108 62\n",
      "(261, 210, 241)\n",
      "116 bv size:  127 119 56\n",
      "(241, 180, 241)\n",
      "117 bv size:  109 68 52\n",
      "(281, 210, 241)\n",
      "118 bv size:  191 99 50\n"
     ]
    },
    {
     "name": "stderr",
     "output_type": "stream",
     "text": [
      "/share/apps/python3/3.6.3/intel/lib/python3.6/site-packages/scipy-1.0.0rc1-py3.6-linux-x86_64.egg/scipy/ndimage/interpolation.py:616: UserWarning:\n",
      "\n",
      "From scipy 0.13.0, the output shape of zoom() is calculated with round() instead of int() - for these inputs the size of the returned array has changed.\n",
      "\n"
     ]
    },
    {
     "name": "stdout",
     "output_type": "stream",
     "text": [
      "(201, 240, 281)\n",
      "119 bv size:  102 53 51\n",
      "(241, 180, 241)\n",
      "120 bv size:  103 58 59\n",
      "(241, 180, 241)\n",
      "121 bv size:  99 57 55\n",
      "(241, 180, 241)\n",
      "122 bv size:  92 67 54\n",
      "(221, 180, 241)\n",
      "123 bv size:  98 49 52\n"
     ]
    },
    {
     "name": "stderr",
     "output_type": "stream",
     "text": [
      "/share/apps/python3/3.6.3/intel/lib/python3.6/site-packages/scipy-1.0.0rc1-py3.6-linux-x86_64.egg/scipy/ndimage/interpolation.py:616: UserWarning:\n",
      "\n",
      "From scipy 0.13.0, the output shape of zoom() is calculated with round() instead of int() - for these inputs the size of the returned array has changed.\n",
      "\n"
     ]
    },
    {
     "name": "stdout",
     "output_type": "stream",
     "text": [
      "(201, 180, 201)\n",
      "124 bv size:  99 47 42\n",
      "(161, 180, 241)\n",
      "125 bv size:  92 55 50\n",
      "(141, 180, 241)\n",
      "126 bv size:  101 61 48\n",
      "(241, 180, 241)\n",
      "127 bv size:  104 61 62\n",
      "(241, 180, 241)\n",
      "128 bv size:  119 63 50\n",
      "(181, 180, 201)\n",
      "129 bv size:  82 51 48\n",
      "(281, 180, 281)\n",
      "130 bv size:  86 61 53\n",
      "(121, 180, 241)\n",
      "131 bv size:  97 105 77\n"
     ]
    },
    {
     "name": "stderr",
     "output_type": "stream",
     "text": [
      "/share/apps/python3/3.6.3/intel/lib/python3.6/site-packages/scipy-1.0.0rc1-py3.6-linux-x86_64.egg/scipy/ndimage/interpolation.py:616: UserWarning:\n",
      "\n",
      "From scipy 0.13.0, the output shape of zoom() is calculated with round() instead of int() - for these inputs the size of the returned array has changed.\n",
      "\n"
     ]
    },
    {
     "name": "stdout",
     "output_type": "stream",
     "text": [
      "(281, 210, 241)\n",
      "132 bv size:  107 56 42\n"
     ]
    },
    {
     "name": "stderr",
     "output_type": "stream",
     "text": [
      "/share/apps/python3/3.6.3/intel/lib/python3.6/site-packages/scipy-1.0.0rc1-py3.6-linux-x86_64.egg/scipy/ndimage/interpolation.py:616: UserWarning:\n",
      "\n",
      "From scipy 0.13.0, the output shape of zoom() is calculated with round() instead of int() - for these inputs the size of the returned array has changed.\n",
      "\n"
     ]
    },
    {
     "name": "stdout",
     "output_type": "stream",
     "text": [
      "(261, 180, 281)\n",
      "133 bv size:  144 96 61\n",
      "(181, 180, 201)\n",
      "134 bv size:  81 51 48\n",
      "(181, 180, 201)\n",
      "135 bv size:  130 56 48\n",
      "(261, 210, 241)\n",
      "136 bv size:  119 57 50\n",
      "(121, 180, 161)\n",
      "137 bv size:  179 51 61\n",
      "(141, 180, 201)\n",
      "138 bv size:  91 61 40\n",
      "(241, 180, 201)\n",
      "139 bv size:  95 47 43\n"
     ]
    },
    {
     "name": "stderr",
     "output_type": "stream",
     "text": [
      "/share/apps/python3/3.6.3/intel/lib/python3.6/site-packages/scipy-1.0.0rc1-py3.6-linux-x86_64.egg/scipy/ndimage/interpolation.py:616: UserWarning:\n",
      "\n",
      "From scipy 0.13.0, the output shape of zoom() is calculated with round() instead of int() - for these inputs the size of the returned array has changed.\n",
      "\n"
     ]
    },
    {
     "name": "stdout",
     "output_type": "stream",
     "text": [
      "(241, 180, 241)\n",
      "140 bv size:  97 52 48\n"
     ]
    },
    {
     "name": "stderr",
     "output_type": "stream",
     "text": [
      "/share/apps/python3/3.6.3/intel/lib/python3.6/site-packages/scipy-1.0.0rc1-py3.6-linux-x86_64.egg/scipy/ndimage/interpolation.py:616: UserWarning:\n",
      "\n",
      "From scipy 0.13.0, the output shape of zoom() is calculated with round() instead of int() - for these inputs the size of the returned array has changed.\n",
      "\n"
     ]
    },
    {
     "name": "stdout",
     "output_type": "stream",
     "text": [
      "(201, 180, 161)\n",
      "141 bv size:  97 105 40\n"
     ]
    },
    {
     "name": "stderr",
     "output_type": "stream",
     "text": [
      "/share/apps/python3/3.6.3/intel/lib/python3.6/site-packages/scipy-1.0.0rc1-py3.6-linux-x86_64.egg/scipy/ndimage/interpolation.py:616: UserWarning:\n",
      "\n",
      "From scipy 0.13.0, the output shape of zoom() is calculated with round() instead of int() - for these inputs the size of the returned array has changed.\n",
      "\n"
     ]
    },
    {
     "name": "stdout",
     "output_type": "stream",
     "text": [
      "(241, 180, 241)\n",
      "142 bv size:  107 59 55\n"
     ]
    },
    {
     "name": "stderr",
     "output_type": "stream",
     "text": [
      "/share/apps/python3/3.6.3/intel/lib/python3.6/site-packages/scipy-1.0.0rc1-py3.6-linux-x86_64.egg/scipy/ndimage/interpolation.py:616: UserWarning:\n",
      "\n",
      "From scipy 0.13.0, the output shape of zoom() is calculated with round() instead of int() - for these inputs the size of the returned array has changed.\n",
      "\n"
     ]
    },
    {
     "name": "stdout",
     "output_type": "stream",
     "text": [
      "(241, 210, 281)\n",
      "143 bv size:  182 97 93\n",
      "(261, 210, 241)\n",
      "144 bv size:  109 109 59\n",
      "(181, 180, 201)\n",
      "145 bv size:  81 52 48\n",
      "(241, 180, 241)\n",
      "146 bv size:  106 54 48\n",
      "(261, 210, 241)\n",
      "147 bv size:  162 117 79\n",
      "(221, 180, 261)\n",
      "148 bv size:  98 67 55\n",
      "(261, 210, 241)\n",
      "149 bv size:  177 114 82\n",
      "(261, 210, 241)\n",
      "150 bv size:  104 101 52\n",
      "(261, 210, 241)\n",
      "151 bv size:  108 104 49\n"
     ]
    },
    {
     "name": "stderr",
     "output_type": "stream",
     "text": [
      "/share/apps/python3/3.6.3/intel/lib/python3.6/site-packages/scipy-1.0.0rc1-py3.6-linux-x86_64.egg/scipy/ndimage/interpolation.py:616: UserWarning:\n",
      "\n",
      "From scipy 0.13.0, the output shape of zoom() is calculated with round() instead of int() - for these inputs the size of the returned array has changed.\n",
      "\n"
     ]
    },
    {
     "name": "stdout",
     "output_type": "stream",
     "text": [
      "(241, 210, 281)\n",
      "152 bv size:  105 56 61\n",
      "(332, 180, 261)\n"
     ]
    }
   ],
   "source": [
    "count = 0\n",
    "mutant_label = {}\n",
    "\n",
    "for i,img_path in enumerate(all_BVs):    \n",
    "    img_label = nib.load(img_path)\n",
    "    img_label = np.uint8(img_label.get_data())\n",
    "    img_label[img_label>0] = 1\n",
    "    \n",
    "    y_predict_component = measure.label(img_label)\n",
    "    component_num = np.unique(y_predict_component)\n",
    "    for current_component in range(1,len(component_num)):\n",
    "        if np.sum(y_predict_component == current_component) < 300:\n",
    "            img_label[y_predict_component == current_component] = 0\n",
    "    \n",
    "    print(np.shape(img_label))\n",
    "    \n",
    "    azimuth, elevation, angle3, label_rot = align_img(img_label)\n",
    "    \n",
    "#     img_rot1 = rot(img,angle=azimuth,axes=(0,1))\n",
    "#     img_rot2 = rot(img_rot1,angle=elevation,axes=(0,2))\n",
    "#     img_rot = rot(img_rot2,angle=-angle3,axes=(1,2))\n",
    "    \n",
    "    x_slice,y_slice,z_slice = ndimage.find_objects(label_rot)[0]\n",
    "    print(count, 'bv size: ', x_slice.stop-x_slice.start, y_slice.stop-y_slice.start, z_slice.stop-z_slice.start)\n",
    "    \n",
    "    label_slice = label_rot[x_slice.start:x_slice.stop, y_slice.start:y_slice.stop, z_slice.start:z_slice.stop]\n",
    "    \n",
    "    x, y, z = np.shape(label_slice)\n",
    "    label_resized = zoom(label_slice, (112.0/x, 64.0/y, 64.0/z))\n",
    "    label_resized[label_resized>=0.5] = 1\n",
    "    label_resized[label_resized<0.5] = 0\n",
    "    \n",
    "#     img_resized = zoom(img_slice, (112.0/x, 64.0/y, 64.0/z))\n",
    "    \n",
    "    save_img(label_resized, label_resized, count)\n",
    "    count += 1\n",
    "    \n",
    "    bv_base_name = os.path.basename(img_path)[:-14]\n",
    "   \n",
    "    mutant_label[i] = (i, 0, bv_base_name, label_resized, img_path)"
   ]
  },
  {
   "cell_type": "code",
   "execution_count": null,
   "metadata": {},
   "outputs": [],
   "source": [
    "save_name = 'All_data_112_64_64_longitudinal_remove_small.pickle'\n",
    "save_file = open(os.path.join(os.getcwd(),'data',save_name),'wb')\n",
    "pickle.dump(mutant_label,save_file)\n",
    "save_file.close()\n"
   ]
  },
  {
   "cell_type": "code",
   "execution_count": null,
   "metadata": {},
   "outputs": [],
   "source": [
    "mutant_names = read_mutant_txt('mutant_imgs.txt')\n",
    "mutant_num = 0 \n",
    "mutant_label = {}\n",
    "test_mut = []\n",
    "year_name = []\n",
    "for i,img_path in enumerate(all_data_list):\n",
    "    if 'BV' in img_path[1]:\n",
    "        bv_base_name = os.path.basename(img_path[0])[:-4]\n",
    "    else:\n",
    "        bv_base_name = os.path.basename(img_path[0])[:-6]\n",
    "        \n",
    "    if bv_base_name in mutant_names:\n",
    "        mutant_label[i] = (i, 0, bv_base_name, img_path[1], img_path[0])\n",
    "        if '2016' in img_path[0]:\n",
    "            test_mut.append(bv_base_name)\n",
    "    else:\n",
    "        mutant_label[i] = (i, 1, bv_base_name, img_path[1], img_path[0])\n",
    "        \n",
    "    if '2016' in img_path[0]:\n",
    "        year_name.append(bv_base_name)\n",
    "    "
   ]
  },
  {
   "cell_type": "code",
   "execution_count": null,
   "metadata": {},
   "outputs": [],
   "source": [
    "for i, name in enumerate(mutant_names):\n",
    "    print(i, ': ',name)\n",
    "\n",
    "mutant_group = [(9,10), (12,13,14), (16,17,18,19), (36,37), (38,39), (42,43), (44,45,46,47), (48,49,50,51), (52,53), (54,55),\n",
    "(56,57,58), (59,60,61), (63,64), (66,67,68), (69,70,71), (73,74), (75,76), (77,78,79), (80,81,82,83,84,85,86,87),\n",
    "(89,90), (91,92), (93,94), (95,96,97), (98,99), (100,101,102)]\n",
    "\n",
    "group_list = []\n",
    "for one_group in mutant_group:\n",
    "    for ii in range(len(one_group)):\n",
    "        group_list.append(one_group[ii])"
   ]
  },
  {
   "cell_type": "code",
   "execution_count": null,
   "metadata": {},
   "outputs": [],
   "source": [
    "group_list"
   ]
  },
  {
   "cell_type": "code",
   "execution_count": null,
   "metadata": {},
   "outputs": [],
   "source": [
    "33 + len(mutant_group)"
   ]
  },
  {
   "cell_type": "code",
   "execution_count": null,
   "metadata": {},
   "outputs": [],
   "source": []
  }
 ],
 "metadata": {
  "kernelspec": {
   "display_name": "Python 3",
   "language": "python",
   "name": "python3"
  },
  "language_info": {
   "codemirror_mode": {
    "name": "ipython",
    "version": 3
   },
   "file_extension": ".py",
   "mimetype": "text/x-python",
   "name": "python",
   "nbconvert_exporter": "python",
   "pygments_lexer": "ipython3",
   "version": "3.6.3"
  }
 },
 "nbformat": 4,
 "nbformat_minor": 2
}
