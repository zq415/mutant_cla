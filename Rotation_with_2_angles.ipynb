{
 "cells": [
  {
   "cell_type": "code",
   "execution_count": 1,
   "metadata": {},
   "outputs": [],
   "source": [
    "import numpy as np\n",
    "import matplotlib.pyplot as plt\n",
    "import scipy\n",
    "import nibabel as nib\n",
    "import os\n",
    "from sklearn.decomposition import PCA\n",
    "import math\n",
    "from skimage import io\n",
    "import plotly.plotly as py\n",
    "from plotly.grid_objs import Grid, Column\n",
    "import time\n",
    "%matplotlib notebook\n",
    "from mpl_toolkits.mplot3d import Axes3D\n",
    "from scipy.ndimage.interpolation import rotate as rot\n",
    "import glob\n",
    "from scipy import ndimage\n",
    "from scipy.ndimage.interpolation import zoom\n",
    "import pickle"
   ]
  },
  {
   "cell_type": "code",
   "execution_count": 2,
   "metadata": {
    "scrolled": false
   },
   "outputs": [],
   "source": [
    "def read_mutant_txt(path):\n",
    "    name_list = []\n",
    "    fo = open(path)\n",
    "    for line in fo:\n",
    "        striped_line = line.strip('\\n')\n",
    "        if striped_line != '':\n",
    "            name_list.append(striped_line)\n",
    "    return name_list\n",
    "\n",
    "def l2norm(a,b):\n",
    "    return np.sqrt(a**2+b**2)\n",
    "\n",
    "\n",
    "def align_img(bv_label):\n",
    "    x,y,z = np.where(bv_label==1)\n",
    "    points = np.vstack((x,y,z))\n",
    "    points = points.T\n",
    "    #print(points.shape)\n",
    "    pca = PCA(n_components = 3)\n",
    "    pca.fit(points)\n",
    "    pc1 = pca.components_[0,:]\n",
    "    #print(pc1)\n",
    "    pc2 = pca.components_[1,:]\n",
    "    if pc1[0] >=0 and pc1[1] >=0:\n",
    "        azimuth = -np.arctan(pc1[1]/pc1[0])*(360/(2*np.pi))\n",
    "    #print('case1')\n",
    "#     clockwise = 1\n",
    "\n",
    "    elif pc1[0] <=0 and pc1[1] <=0:\n",
    "        azimuth = (180 - np.arctan(pc1[1]/pc1[0])*(360/(2*np.pi)))\n",
    "    #    print('case2')\n",
    "    #     anticlockwise = 1\n",
    "\n",
    "    elif pc1[0]>=0 and pc1[1]<=0:\n",
    "        azimuth = np.arctan(np.abs(pc1[1])/np.abs(pc1[0]))*(360/(2*np.pi))\n",
    "    #    print('case3')\n",
    "    #     anticlockwise = 1\n",
    "    else:\n",
    "        azimuth = -(90 + np.arctan(np.abs(pc1[0])/np.abs(pc1[1]))*(360/(2*np.pi)))\n",
    "    #    print('case4')\n",
    "    #     clockwise = 1\n",
    "\n",
    "    # finding the elevation angle\n",
    "    if pc1[2]>=0:\n",
    "        elevation = -np.arctan(pc1[2]/l2norm(pc1[0],pc1[1]))*(360/(2*np.pi))\n",
    "     #   print('case1')\n",
    "    else:\n",
    "        elevation = np.arctan(np.abs(pc1[2])/l2norm(pc1[0],pc1[1]))*(360/(2*np.pi))\n",
    "     #   print('case2')\n",
    "   \n",
    "    bv_label_copy = bv_label.copy()\n",
    "    label_rot1 = rot(bv_label_copy,angle=azimuth,axes=(0,1))\n",
    "    label_rot = rot(label_rot1,angle=elevation,axes=(0,2))\n",
    "    \n",
    "    xr,yr,zr = np.where(label_rot==1)\n",
    "    points_rot = np.vstack((xr,yr,zr))\n",
    "    points_rot = points_rot.T\n",
    "    #print(points_rot.shape)\n",
    "    pca_rot = PCA(n_components = 3)\n",
    "    pca_rot.fit(points_rot)\n",
    "    pc1r = pca_rot.components_[0,:]\n",
    "    pc2r = pca_rot.components_[1,:]\n",
    "    \n",
    "    angle3 = np.arctan(pc2r[2]/pc2r[1])*(360/(2*np.pi))\n",
    "    \n",
    "    label_rot = rot(label_rot,angle=-angle3,axes=(1,2))\n",
    "    \n",
    "    return azimuth, elevation, angle3, label_rot\n",
    "\n",
    "def save_img(img, label, count):\n",
    "    img_nft = nib.Nifti1Image(img,np.eye(4))\n",
    "    img_save_data_path = './resize_img/img{}.nii'.format(count)\n",
    "    nib.save(img_nft,img_save_data_path)\n",
    "    \n",
    "    img_nft = nib.Nifti1Image(label,np.eye(4))\n",
    "    img_save_data_path = './resize_img/label{}.nii'.format(count)\n",
    "    nib.save(img_nft,img_save_data_path)\n",
    "    "
   ]
  },
  {
   "cell_type": "code",
   "execution_count": 5,
   "metadata": {},
   "outputs": [
    {
     "name": "stdout",
     "output_type": "stream",
     "text": [
      "196\n"
     ]
    }
   ],
   "source": [
    "data_base_path = '/scratch/zq415/grammar_cor/Localization/data'\n",
    "#data_folder_list = ['20180419_newdata_nii_with_filtered', 'new_data_20180522_nii']\n",
    "data_folder_list2 = 'fix_organized_data_nii'\n",
    "\n",
    "all_BVs = []\n",
    "# for cur_floder in data_folder_list:\n",
    "#     cur_folder_path = os.path.join(data_base_path,cur_floder)\n",
    "#     all_BVs += glob.glob(cur_folder_path+'/*/*/*[Bb][Vv]*')\n",
    "# print(len(all_BVs))\n",
    "\n",
    "cur_folder_path = os.path.join(data_base_path,data_folder_list2)\n",
    "all_BVs += glob.glob(cur_folder_path+'/*[Bb][Vv]*')\n",
    "print(len(all_BVs))\n",
    "\n",
    "all_data_list = []\n",
    "same_name_num = 0\n",
    "for full_bv_path in all_BVs:\n",
    "    if 'BV' in full_bv_path:\n",
    "        all_data_list.append((full_bv_path[:-14] + '.nii', full_bv_path))\n",
    "    else:\n",
    "        all_data_list.append((full_bv_path[:-9]+ '_2' + '.nii', full_bv_path))"
   ]
  },
  {
   "cell_type": "code",
   "execution_count": 6,
   "metadata": {},
   "outputs": [
    {
     "data": {
      "text/plain": [
       "('/scratch/zq415/grammar_cor/Localization/data/fix_organized_data_nii/20180130_En1_E11p5_E2a_reg_2.nii',\n",
       " '/scratch/zq415/grammar_cor/Localization/data/fix_organized_data_nii/20180130_En1_E11p5_E2a_regprebv.nii')"
      ]
     },
     "execution_count": 6,
     "metadata": {},
     "output_type": "execute_result"
    }
   ],
   "source": [
    "all_data_list[188]"
   ]
  },
  {
   "cell_type": "code",
   "execution_count": 8,
   "metadata": {},
   "outputs": [
    {
     "data": {
      "text/plain": [
       "('/scratch/zq415/grammar_cor/Localization/data/fix_organized_data_nii/20180228_En1_E13p5_Ext_E6a_2.nii',\n",
       " '/scratch/zq415/grammar_cor/Localization/data/fix_organized_data_nii/20180228_En1_E13p5_Ext_E6aprebv.nii')"
      ]
     },
     "execution_count": 8,
     "metadata": {},
     "output_type": "execute_result"
    }
   ],
   "source": [
    "all_data_list[556]"
   ]
  },
  {
   "cell_type": "code",
   "execution_count": 4,
   "metadata": {},
   "outputs": [],
   "source": [
    "mutant_names = read_mutant_txt('mutant_imgs.txt')"
   ]
  },
  {
   "cell_type": "code",
   "execution_count": 5,
   "metadata": {},
   "outputs": [
    {
     "name": "stdout",
     "output_type": "stream",
     "text": [
      "(210, 241, 261) (210, 241, 261)\n",
      "0 bv size:  102 54 54\n",
      "(210, 241, 241) (210, 241, 241)\n",
      "1 bv size:  101 54 45\n",
      "(210, 241, 261) (210, 241, 261)\n",
      "2 bv size:  113 53 55\n",
      "(210, 241, 241) (210, 241, 241)\n",
      "3 bv size:  107 56 54\n"
     ]
    },
    {
     "name": "stderr",
     "output_type": "stream",
     "text": [
      "/share/apps/python3/3.6.3/intel/lib/python3.6/site-packages/scipy-1.0.0rc1-py3.6-linux-x86_64.egg/scipy/ndimage/interpolation.py:616: UserWarning:\n",
      "\n",
      "From scipy 0.13.0, the output shape of zoom() is calculated with round() instead of int() - for these inputs the size of the returned array has changed.\n",
      "\n"
     ]
    },
    {
     "name": "stdout",
     "output_type": "stream",
     "text": [
      "(180, 241, 181) (180, 241, 181)\n",
      "4 bv size:  106 57 59\n",
      "(210, 241, 241) (210, 241, 241)\n",
      "5 bv size:  106 54 55\n",
      "(210, 241, 241) (210, 241, 241)\n",
      "6 bv size:  106 57 48\n",
      "(210, 241, 221) (210, 241, 221)\n",
      "7 bv size:  106 57 48\n",
      "(210, 241, 241) (210, 241, 241)\n",
      "8 bv size:  107 53 53\n"
     ]
    },
    {
     "name": "stderr",
     "output_type": "stream",
     "text": [
      "/share/apps/python3/3.6.3/intel/lib/python3.6/site-packages/scipy-1.0.0rc1-py3.6-linux-x86_64.egg/scipy/ndimage/interpolation.py:616: UserWarning:\n",
      "\n",
      "From scipy 0.13.0, the output shape of zoom() is calculated with round() instead of int() - for these inputs the size of the returned array has changed.\n",
      "\n"
     ]
    },
    {
     "name": "stdout",
     "output_type": "stream",
     "text": [
      "(210, 241, 261) (210, 241, 261)\n",
      "9 bv size:  114 59 53\n",
      "(210, 241, 241) (210, 241, 241)\n",
      "10 bv size:  108 55 51\n",
      "(180, 281, 181) (180, 281, 181)\n",
      "11 bv size:  104 71 64\n",
      "(180, 281, 201) (180, 281, 201)\n",
      "12 bv size:  105 69 59\n",
      "(180, 281, 161) (180, 281, 161)\n",
      "13 bv size:  107 68 55\n"
     ]
    },
    {
     "name": "stderr",
     "output_type": "stream",
     "text": [
      "/share/apps/python3/3.6.3/intel/lib/python3.6/site-packages/scipy-1.0.0rc1-py3.6-linux-x86_64.egg/scipy/ndimage/interpolation.py:616: UserWarning:\n",
      "\n",
      "From scipy 0.13.0, the output shape of zoom() is calculated with round() instead of int() - for these inputs the size of the returned array has changed.\n",
      "\n"
     ]
    },
    {
     "name": "stdout",
     "output_type": "stream",
     "text": [
      "(180, 281, 181) (180, 281, 181)\n",
      "14 bv size:  114 69 62\n",
      "(180, 281, 181) (180, 281, 181)\n",
      "15 bv size:  109 60 40\n",
      "(180, 281, 241) (180, 281, 241)\n",
      "16 bv size:  135 66 62\n",
      "(180, 281, 201) (180, 281, 201)\n",
      "17 bv size:  103 56 59\n",
      "(180, 281, 181) (180, 281, 181)\n",
      "18 bv size:  99 53 49\n"
     ]
    },
    {
     "name": "stderr",
     "output_type": "stream",
     "text": [
      "/share/apps/python3/3.6.3/intel/lib/python3.6/site-packages/scipy-1.0.0rc1-py3.6-linux-x86_64.egg/scipy/ndimage/interpolation.py:616: UserWarning:\n",
      "\n",
      "From scipy 0.13.0, the output shape of zoom() is calculated with round() instead of int() - for these inputs the size of the returned array has changed.\n",
      "\n"
     ]
    },
    {
     "name": "stdout",
     "output_type": "stream",
     "text": [
      "(180, 201, 201) (180, 201, 201)\n",
      "19 bv size:  104 61 42\n",
      "(180, 201, 181) (180, 201, 181)\n",
      "20 bv size:  96 59 43\n",
      "(180, 221, 161) (180, 221, 161)\n",
      "21 bv size:  80 48 42\n",
      "(180, 201, 161) (180, 201, 161)\n",
      "22 bv size:  89 49 42\n"
     ]
    },
    {
     "name": "stderr",
     "output_type": "stream",
     "text": [
      "/share/apps/python3/3.6.3/intel/lib/python3.6/site-packages/scipy-1.0.0rc1-py3.6-linux-x86_64.egg/scipy/ndimage/interpolation.py:616: UserWarning:\n",
      "\n",
      "From scipy 0.13.0, the output shape of zoom() is calculated with round() instead of int() - for these inputs the size of the returned array has changed.\n",
      "\n"
     ]
    },
    {
     "name": "stdout",
     "output_type": "stream",
     "text": [
      "(180, 201, 181) (180, 201, 181)\n",
      "23 bv size:  83 54 42\n"
     ]
    },
    {
     "name": "stderr",
     "output_type": "stream",
     "text": [
      "/share/apps/python3/3.6.3/intel/lib/python3.6/site-packages/scipy-1.0.0rc1-py3.6-linux-x86_64.egg/scipy/ndimage/interpolation.py:616: UserWarning:\n",
      "\n",
      "From scipy 0.13.0, the output shape of zoom() is calculated with round() instead of int() - for these inputs the size of the returned array has changed.\n",
      "\n"
     ]
    },
    {
     "name": "stdout",
     "output_type": "stream",
     "text": [
      "(180, 201, 161) (180, 201, 161)\n",
      "24 bv size:  85 55 41\n",
      "(180, 201, 161) (180, 201, 161)\n",
      "25 bv size:  77 54 40\n",
      "(180, 201, 161) (180, 201, 161)\n",
      "26 bv size:  89 70 39\n",
      "(180, 201, 181) (180, 201, 181)\n",
      "27 bv size:  84 70 40\n",
      "(180, 201, 141) (180, 201, 141)\n",
      "28 bv size:  75 56 36\n",
      "(180, 201, 141) (180, 201, 141)\n"
     ]
    },
    {
     "ename": "KeyboardInterrupt",
     "evalue": "",
     "output_type": "error",
     "traceback": [
      "\u001b[0;31m---------------------------------------------------------------------------\u001b[0m",
      "\u001b[0;31mKeyboardInterrupt\u001b[0m                         Traceback (most recent call last)",
      "\u001b[0;32m<ipython-input-5-4d48e32fb00a>\u001b[0m in \u001b[0;36m<module>\u001b[0;34m\u001b[0m\n\u001b[1;32m     15\u001b[0m \u001b[0;34m\u001b[0m\u001b[0m\n\u001b[1;32m     16\u001b[0m     \u001b[0mimg_rot1\u001b[0m \u001b[0;34m=\u001b[0m \u001b[0mrot\u001b[0m\u001b[0;34m(\u001b[0m\u001b[0mimg\u001b[0m\u001b[0;34m,\u001b[0m\u001b[0mangle\u001b[0m\u001b[0;34m=\u001b[0m\u001b[0mazimuth\u001b[0m\u001b[0;34m,\u001b[0m\u001b[0maxes\u001b[0m\u001b[0;34m=\u001b[0m\u001b[0;34m(\u001b[0m\u001b[0;36m0\u001b[0m\u001b[0;34m,\u001b[0m\u001b[0;36m1\u001b[0m\u001b[0;34m)\u001b[0m\u001b[0;34m)\u001b[0m\u001b[0;34m\u001b[0m\u001b[0m\n\u001b[0;32m---> 17\u001b[0;31m     \u001b[0mimg_rot2\u001b[0m \u001b[0;34m=\u001b[0m \u001b[0mrot\u001b[0m\u001b[0;34m(\u001b[0m\u001b[0mimg_rot1\u001b[0m\u001b[0;34m,\u001b[0m\u001b[0mangle\u001b[0m\u001b[0;34m=\u001b[0m\u001b[0melevation\u001b[0m\u001b[0;34m,\u001b[0m\u001b[0maxes\u001b[0m\u001b[0;34m=\u001b[0m\u001b[0;34m(\u001b[0m\u001b[0;36m0\u001b[0m\u001b[0;34m,\u001b[0m\u001b[0;36m2\u001b[0m\u001b[0;34m)\u001b[0m\u001b[0;34m)\u001b[0m\u001b[0;34m\u001b[0m\u001b[0m\n\u001b[0m\u001b[1;32m     18\u001b[0m     \u001b[0mimg_rot\u001b[0m \u001b[0;34m=\u001b[0m \u001b[0mrot\u001b[0m\u001b[0;34m(\u001b[0m\u001b[0mimg_rot2\u001b[0m\u001b[0;34m,\u001b[0m\u001b[0mangle\u001b[0m\u001b[0;34m=\u001b[0m\u001b[0;34m-\u001b[0m\u001b[0mangle3\u001b[0m\u001b[0;34m,\u001b[0m\u001b[0maxes\u001b[0m\u001b[0;34m=\u001b[0m\u001b[0;34m(\u001b[0m\u001b[0;36m1\u001b[0m\u001b[0;34m,\u001b[0m\u001b[0;36m2\u001b[0m\u001b[0;34m)\u001b[0m\u001b[0;34m)\u001b[0m\u001b[0;34m\u001b[0m\u001b[0m\n\u001b[1;32m     19\u001b[0m \u001b[0;34m\u001b[0m\u001b[0m\n",
      "\u001b[0;32m/share/apps/python3/3.6.3/intel/lib/python3.6/site-packages/scipy-1.0.0rc1-py3.6-linux-x86_64.egg/scipy/ndimage/interpolation.py\u001b[0m in \u001b[0;36mrotate\u001b[0;34m(input, angle, axes, reshape, output, order, mode, cval, prefilter)\u001b[0m\n\u001b[1;32m    761\u001b[0m             \u001b[0moa\u001b[0m \u001b[0;34m=\u001b[0m \u001b[0moutput\u001b[0m\u001b[0;34m[\u001b[0m\u001b[0mtuple\u001b[0m\u001b[0;34m(\u001b[0m\u001b[0mcoordinates\u001b[0m\u001b[0;34m)\u001b[0m\u001b[0;34m]\u001b[0m\u001b[0;34m\u001b[0m\u001b[0m\n\u001b[1;32m    762\u001b[0m             affine_transform(ia, matrix, offset, os, oa, order, mode,\n\u001b[0;32m--> 763\u001b[0;31m                              cval, prefilter)\n\u001b[0m\u001b[1;32m    764\u001b[0m             \u001b[0;32mfor\u001b[0m \u001b[0mjj\u001b[0m \u001b[0;32min\u001b[0m \u001b[0miter_axes\u001b[0m\u001b[0;34m:\u001b[0m\u001b[0;34m\u001b[0m\u001b[0m\n\u001b[1;32m    765\u001b[0m                 \u001b[0;32mif\u001b[0m \u001b[0mcoordinates\u001b[0m\u001b[0;34m[\u001b[0m\u001b[0mjj\u001b[0m\u001b[0;34m]\u001b[0m \u001b[0;34m<\u001b[0m \u001b[0minput\u001b[0m\u001b[0;34m.\u001b[0m\u001b[0mshape\u001b[0m\u001b[0;34m[\u001b[0m\u001b[0mjj\u001b[0m\u001b[0;34m]\u001b[0m \u001b[0;34m-\u001b[0m \u001b[0;36m1\u001b[0m\u001b[0;34m:\u001b[0m\u001b[0;34m\u001b[0m\u001b[0m\n",
      "\u001b[0;32m/share/apps/python3/3.6.3/intel/lib/python3.6/site-packages/scipy-1.0.0rc1-py3.6-linux-x86_64.egg/scipy/ndimage/interpolation.py\u001b[0m in \u001b[0;36maffine_transform\u001b[0;34m(input, matrix, offset, output_shape, output, order, mode, cval, prefilter)\u001b[0m\n\u001b[1;32m    484\u001b[0m     \u001b[0;32melse\u001b[0m\u001b[0;34m:\u001b[0m\u001b[0;34m\u001b[0m\u001b[0m\n\u001b[1;32m    485\u001b[0m         _nd_image.geometric_transform(filtered, None, None, matrix, offset,\n\u001b[0;32m--> 486\u001b[0;31m                                       output, order, mode, cval, None, None)\n\u001b[0m\u001b[1;32m    487\u001b[0m     \u001b[0;32mreturn\u001b[0m \u001b[0mreturn_value\u001b[0m\u001b[0;34m\u001b[0m\u001b[0m\n\u001b[1;32m    488\u001b[0m \u001b[0;34m\u001b[0m\u001b[0m\n",
      "\u001b[0;31mKeyboardInterrupt\u001b[0m: "
     ]
    }
   ],
   "source": [
    "count = 0\n",
    "mutant_label = {}\n",
    "\n",
    "for i,img_path in enumerate(all_data_list):\n",
    "    img = nib.load(img_path[0])\n",
    "    img = np.float32(img.get_data())\n",
    "    \n",
    "    img_label = nib.load(img_path[1])\n",
    "    img_label = np.uint8(img_label.get_data())\n",
    "    img_label[img_label>0] = 1\n",
    "    \n",
    "    print(np.shape(img),np.shape(img_label))\n",
    "    \n",
    "    azimuth, elevation, angle3, label_rot = align_img(img_label)\n",
    "    \n",
    "    img_rot1 = rot(img,angle=azimuth,axes=(0,1))\n",
    "    img_rot2 = rot(img_rot1,angle=elevation,axes=(0,2))\n",
    "    img_rot = rot(img_rot2,angle=-angle3,axes=(1,2))\n",
    "    \n",
    "    x_slice,y_slice,z_slice = ndimage.find_objects(label_rot)[0]\n",
    "    print(count, 'bv size: ', x_slice.stop-x_slice.start, y_slice.stop-y_slice.start, z_slice.stop-z_slice.start)\n",
    "    \n",
    "    img_slice = img_rot[x_slice.start:x_slice.stop, y_slice.start:y_slice.stop, z_slice.start:z_slice.stop]\n",
    "    label_slice = label_rot[x_slice.start:x_slice.stop, y_slice.start:y_slice.stop, z_slice.start:z_slice.stop]\n",
    "    \n",
    "    x, y, z = np.shape(label_slice)\n",
    "    label_resized = zoom(label_slice, (112.0/x, 64.0/y, 64.0/z))\n",
    "    label_resized[label_resized>=0.5] = 1\n",
    "    label_resized[label_resized<0.5] = 0\n",
    "    \n",
    "    img_resized = zoom(img_slice, (112.0/x, 64.0/y, 64.0/z))\n",
    "    \n",
    "    save_img(img_resized, label_resized, count)\n",
    "    count += 1\n",
    "    \n",
    "    if 'BV' in img_path[1]:\n",
    "        bv_base_name = os.path.basename(img_path[0])[:-4]\n",
    "    else:\n",
    "        bv_base_name = os.path.basename(img_path[0])[:-6]\n",
    "        \n",
    "    if bv_base_name in mutant_names:\n",
    "        mutant_label[i] = (i, 0, bv_base_name, label_resized, img_resized, img_path[1])\n",
    "    else:\n",
    "        mutant_label[i] = (i, 1, bv_base_name, label_resized, img_resized, img_path[1])\n",
    "        \n"
   ]
  },
  {
   "cell_type": "code",
   "execution_count": 6,
   "metadata": {},
   "outputs": [],
   "source": [
    "save_name = 'All_data_112_64_64.pickle'\n",
    "save_file = open(os.path.join(os.getcwd(),'data',save_name),'wb')\n",
    "pickle.dump(mutant_label,save_file)\n",
    "save_file.close()\n"
   ]
  },
  {
   "cell_type": "code",
   "execution_count": 35,
   "metadata": {},
   "outputs": [],
   "source": [
    "mutant_names = read_mutant_txt('mutant_imgs.txt')\n",
    "mutant_num = 0 \n",
    "mutant_label = {}\n",
    "test_mut = []\n",
    "year_name = []\n",
    "for i,img_path in enumerate(all_data_list):\n",
    "    if 'BV' in img_path[1]:\n",
    "        bv_base_name = os.path.basename(img_path[0])[:-4]\n",
    "    else:\n",
    "        bv_base_name = os.path.basename(img_path[0])[:-6]\n",
    "        \n",
    "    if bv_base_name in mutant_names:\n",
    "        mutant_label[i] = (i, 0, bv_base_name, img_path[1], img_path[0])\n",
    "        if '2016' in img_path[0]:\n",
    "            test_mut.append(bv_base_name)\n",
    "    else:\n",
    "        mutant_label[i] = (i, 1, bv_base_name, img_path[1], img_path[0])\n",
    "        \n",
    "    if '2016' in img_path[0]:\n",
    "        year_name.append(bv_base_name)\n",
    "    "
   ]
  },
  {
   "cell_type": "code",
   "execution_count": 42,
   "metadata": {},
   "outputs": [
    {
     "name": "stdout",
     "output_type": "stream",
     "text": [
      "0 :  20171208_En1_E10_E3a\n",
      "1 :  20171211_En1_E10_E1a\n",
      "2 :  20171211_En1_E10_E4b\n",
      "3 :  20171002_En1_E11_E2a\n",
      "4 :  20170619_En1_E12_Ex_E2a_reg\n",
      "5 :  20170619_En1_E12_Ex_E4b_Mut_reg\n",
      "6 :  20170619_En1_E12_E1a\n",
      "7 :  20170619_En1_E12_E3a\n",
      "8 :  20170705_En1_E12_E1a_filt\n",
      "9 :  20170718_En1_E12_E7a_reg\n",
      "10 :  20170718_En1_E12_E7b_reg\n",
      "11 :  20171003_En1_E12_E4a_Mut\n",
      "12 :  20170207_En1_E13_E3_Mut\n",
      "13 :  20170207_En1_E13_E3c_Mut\n",
      "14 :  20170207_En1_E13_E3d_Mut\n",
      "15 :  20170207_En1_E13_E10d_Mut\n",
      "16 :  20170207_En1_E13_E12a_Mut\n",
      "17 :  20170207_En1_E13_E12b_Mut\n",
      "18 :  20170207_En1_E13_E12c_Mut\n",
      "19 :  20170207_En1_E13_E12d_Mut\n",
      "20 :  20170706_En1_E13_E9a_Mut_reg\n",
      "21 :  20170706_En1_E13_E10a-Mut_reg\n",
      "22 :  20170706_En1_E13_E11a_Mut_reg\n",
      "23 :  20171004_En1_E13_E5b_Mut\n",
      "24 :  20171212_En1_E11_E3a\n",
      "25 :  20171212_En1_E11_E4b\n",
      "26 :  20171212_En1_E11_E6a\n",
      "27 :  20171212_En1_E11_E7a\n",
      "28 :  20171009_En1_E12_E10a\n",
      "29 :  20171009_En1_E12_E11a\n",
      "30 :  20171009_En1_E12_E12a\n",
      "31 :  20171009_En1_E12_E4a\n",
      "32 :  20171122_En1_E12p5_E1b\n",
      "33 :  20171211_En1_E13_E2aMut_ext\n",
      "34 :  20171211_En1_E13_E5a_Mut_Ext\n",
      "35 :  20161219_En1_E10_E5Ma\n",
      "36 :  20161121_En1_E1b_reg-filt_Mut\n",
      "37 :  20161121_En1_E1c_reg-filt_Mut\n",
      "38 :  20161121_En1_E4a_reg-filt_Mut\n",
      "39 :  20161121_En1_E4b_reg-filt_Mut\n",
      "40 :  20161220_En1_E11_E2b_Mut\n",
      "41 :  20161205_En1_E12_E3a\n",
      "42 :  20180228_En1_E12p5_E2a\n",
      "43 :  20180228_En1_E12p5_E2b\n",
      "44 :  20161206_En1_E13_E2a\n",
      "45 :  20161206_En1_E13_E2b\n",
      "46 :  20161206_En1_E13_E2c\n",
      "47 :  20161206_En1_E13_E2d\n",
      "48 :  20161206_En1_E13_E3a\n",
      "49 :  20161206_En1_E13_E3b\n",
      "50 :  20161206_En1_E13_E3c\n",
      "51 :  20161206_En1_E13_E3d\n",
      "52 :  20170727_En1_E13_E1a_Mut\n",
      "53 :  20170727_En1_E13_E1b_Mut\n",
      "54 :  20180201_En1_E13_E4c_Mut\n",
      "55 :  20180201_En1_E13_E4d_Mut\n",
      "56 :  20180301_En1_E13p5_Em4a_Mut\n",
      "57 :  20180301_En1_E13p5_Em4b_Mut\n",
      "58 :  20180301_En1_E13p5_Em4c_Mut\n",
      "59 :  20161128_En1_E14_E5Ra-filt\n",
      "60 :  20161128_En1_E14_E5Rb-filt\n",
      "61 :  20161128_En1_E14_E5R-filt\n",
      "62 :  20161207_En1_E14_E5a\n",
      "63 :  20180302_En1_E14.5_Em1a_Mut\n",
      "64 :  20180302_En1_E14.5_Em1b_Mut\n",
      "65 :  20180302_En1_E14.5_Em5b_Mut\n",
      "66 :  20180131_En1_E12_E5a_Mut\n",
      "67 :  20180131_En1_E12_E5b\n",
      "68 :  20180131_En1_E12_E5c_Mut\n",
      "69 :  20161222_En1_E13_E1a_Mut\n",
      "70 :  20161222_En1_E13_E1b_Mut\n",
      "71 :  20161222_En1_E13_E1c_Mut\n",
      "72 :  20180201_En1_M2_E13_E4a\n",
      "73 :  20180201_En1_M2_E13_E8a_Mut\n",
      "74 :  20180201_En1_M2_E13_E8b_Mut\n",
      "75 :  20180201_En1_M2_E13_E9a\n",
      "76 :  20180201_En1_M2_E13_E9b\n",
      "77 :  20180525_EN1_E13.5_E1b_Mut\n",
      "78 :  20180525_EN1_E13.5_E1c\n",
      "79 :  20180525_EN1_E13.5_E1d\n",
      "80 :  20161223_En1_E14_Ext_E5_Mut_Av\n",
      "81 :  20161223_En1_E14_Ext_E5a_Mut\n",
      "82 :  20161223_En1_E14_Ext_E5b_Mut\n",
      "83 :  20161223_En1_E14_Ext_E5c_Mut\n",
      "84 :  20161223_En1_E14_Ext_E5d_Mut\n",
      "85 :  20161223_En1_E14_Ext_E5b_Mut_Trans\n",
      "86 :  20161223_En1_E14_Ext_E5c_Mut_Trans\n",
      "87 :  20161223_En1_E14_Ext_E5d_Mut_Trans\n",
      "88 :  20161223_En1_E14_E1a_Mut\n",
      "89 :  20180202_En1_E14_E3a_Mut\n",
      "90 :  20180202_En1_E14_E3b_Mut\n",
      "91 :  20180202_En1_E14_E4a_mut\n",
      "92 :  20180202_En1_E14_E4b_Mut\n",
      "93 :  20180202_En1_E14_E9a_Mut\n",
      "94 :  20180202_En1_E14_E9b_Mut\n",
      "95 :  20180302_En1_E14.5_Ext_E3a_Mut\n",
      "96 :  20180302_En1_E14.5_Ext_E3b_Mut\n",
      "97 :  20180302_En1_E14.5_Ext_E3b_Mut_reg\n",
      "98 :  20180302_En1_E14.5_Ext_E9a_Mut\n",
      "99 :  20180302_En1_E14.5_Ext_E9a_Mut_reg\n",
      "100 :  20180302_En1_E14.5_Ext_E12a_Mut\n",
      "101 :  20180302_En1_E14.5_Ext_E12b_Mut\n",
      "102 :  20180302_En1_E14.5_Ext_E12b_Mut_reg\n"
     ]
    }
   ],
   "source": [
    "for i, name in enumerate(mutant_names):\n",
    "    print(i, ': ',name)\n",
    "\n",
    "mutant_group = [(9,10), (12,13,14), (16,17,18,19), (36,37), (38,39), (42,43), (44,45,46,47), (48,49,50,51), (52,53), (54,55),\n",
    "(56,57,58), (59,60,61), (63,64), (66,67,68), (69,70,71), (73,74), (75,76), (77,78,79), (80,81,82,83,84,85,86,87),\n",
    "(89,90), (91,92), (93,94), (95,96,97), (98,99), (100,101,102)]\n",
    "\n",
    "group_list = []\n",
    "for one_group in mutant_group:\n",
    "    for ii in range(len(one_group)):\n",
    "        group_list.append(one_group[ii])"
   ]
  },
  {
   "cell_type": "code",
   "execution_count": 43,
   "metadata": {},
   "outputs": [
    {
     "data": {
      "text/plain": [
       "70"
      ]
     },
     "execution_count": 43,
     "metadata": {},
     "output_type": "execute_result"
    }
   ],
   "source": [
    "group_list"
   ]
  },
  {
   "cell_type": "code",
   "execution_count": 44,
   "metadata": {},
   "outputs": [
    {
     "data": {
      "text/plain": [
       "58"
      ]
     },
     "execution_count": 44,
     "metadata": {},
     "output_type": "execute_result"
    }
   ],
   "source": [
    "33 + len(mutant_group)"
   ]
  },
  {
   "cell_type": "code",
   "execution_count": null,
   "metadata": {},
   "outputs": [],
   "source": []
  }
 ],
 "metadata": {
  "kernelspec": {
   "display_name": "Python 3",
   "language": "python",
   "name": "python3"
  },
  "language_info": {
   "codemirror_mode": {
    "name": "ipython",
    "version": 3
   },
   "file_extension": ".py",
   "mimetype": "text/x-python",
   "name": "python",
   "nbconvert_exporter": "python",
   "pygments_lexer": "ipython3",
   "version": "3.6.3"
  }
 },
 "nbformat": 4,
 "nbformat_minor": 2
}
