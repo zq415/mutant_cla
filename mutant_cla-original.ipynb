{
 "cells": [
  {
   "cell_type": "code",
   "execution_count": 1,
   "metadata": {},
   "outputs": [],
   "source": [
    "import glob\n",
    "import os\n",
    "import nibabel as nib\n",
    "import numpy as np\n",
    "from scipy.ndimage.interpolation import zoom\n",
    "from scipy import ndimage\n",
    "import pickle\n",
    "import nibabel as nib\n",
    "from torchvision import transforms\n",
    "import torch.optim as optim\n",
    "import torch.nn as nn\n",
    "import torch.nn.functional as F\n",
    "import torchvision\n",
    "\n"
   ]
  },
  {
   "cell_type": "code",
   "execution_count": 2,
   "metadata": {},
   "outputs": [],
   "source": [
    "def count_parameters(model):\n",
    "    return sum(p.numel() for p in model.parameters() if p.requires_grad)\n",
    "\n",
    "def read_mutant_txt(path):\n",
    "    name_list = []\n",
    "    fo = open(path)\n",
    "    for line in fo:\n",
    "        striped_line = line.strip('\\n')\n",
    "        if striped_line != '':\n",
    "            name_list.append(striped_line)\n",
    "    return name_list\n",
    "\n",
    "def find_centroid(bv_img):\n",
    "    bv_voxel_num = np.sum(bv_img)\n",
    "    # find x_centroid\n",
    "    x_centroid = 0\n",
    "    for i in range(bv_img.shape[0]):\n",
    "        x_centroid += np.sum(bv_img[i,:,:])*i\n",
    "    x_centroid /= bv_voxel_num\n",
    "    # find y_centroid\n",
    "    y_centroid = 0\n",
    "    for i in range(bv_img.shape[1]):\n",
    "        y_centroid += np.sum(bv_img[:,i,:])*i\n",
    "    y_centroid /= bv_voxel_num\n",
    "    # find z_centroid\n",
    "    z_centroid = 0\n",
    "    for i in range(bv_img.shape[2]):\n",
    "        z_centroid += np.sum(bv_img[:,:,i])*i\n",
    "    z_centroid /= bv_voxel_num\n",
    "    return (round(x_centroid), round(y_centroid), round(z_centroid))\n"
   ]
  },
  {
   "cell_type": "code",
   "execution_count": 3,
   "metadata": {},
   "outputs": [],
   "source": [
    "def even_func(x):\n",
    "    if x % 2 == 0:\n",
    "        return x\n",
    "    else:\n",
    "        return x+1\n",
    "    \n",
    "def padded_minimum_size(label, min_size):\n",
    "    img_size= np.shape(label)\n",
    "    x_offset=0\n",
    "    y_offset=0\n",
    "    z_offset=0\n",
    "    x_flag=False\n",
    "    y_flag=False\n",
    "    z_flag=False\n",
    "    if img_size[0]<min_size:\n",
    "        x_offset=min_size-img_size[0]\n",
    "        x_flag=True\n",
    "    if img_size[1]<min_size:\n",
    "        y_offset=min_size-img_size[1]\n",
    "        y_flag=True\n",
    "    if img_size[2]<min_size:\n",
    "        z_offset=min_size-img_size[2]\n",
    "        z_flag=True\n",
    "    \n",
    "    if x_flag == True and y_flag == True and z_flag == True:\n",
    "        padded_label=np.zeros((min_size,min_size,min_size),np.uint8)\n",
    "        \n",
    "        padded_label[round(x_offset/2):round(x_offset/2)+img_size[0], \n",
    "                     round(y_offset/2):round(y_offset/2)+img_size[1], \n",
    "                     round(z_offset/2):round(z_offset/2)+img_size[2]]=label\n",
    "        \n",
    "        return padded_label\n",
    "    \n",
    "    elif x_flag == True and y_flag == True:\n",
    "        padded_label=np.zeros((min_size,min_size,even_func(img_size[2])),np.uint8)\n",
    "        \n",
    "        padded_label[round(x_offset/2):round(x_offset/2)+img_size[0],\n",
    "                     round(y_offset/2):round(y_offset/2)+img_size[1],\n",
    "                     0:img_size[2]] = label\n",
    "        return padded_label\n",
    "    \n",
    "    elif x_flag == True and z_flag == True:\n",
    "        padded_label=np.zeros((min_size,even_func(img_size[1]),min_size),np.uint8)\n",
    "        \n",
    "        padded_label[round(x_offset/2):round(x_offset/2)+img_size[0],\n",
    "                     0:img_size[1],\n",
    "                     round(z_offset/2):round(z_offset/2)+img_size[2]]=label\n",
    "        return padded_label\n",
    "    \n",
    "    elif y_flag == True and z_flag == True:\n",
    "        padded_label=np.zeros((even_func(img_size[0]),min_size,min_size),np.uint8)\n",
    "        \n",
    "        padded_label[0:img_size[0],\n",
    "                     round(y_offset/2):round(y_offset/2)+img_size[1],\n",
    "                     round(z_offset/2):round(z_offset/2)+img_size[2]]=label\n",
    "        return padded_label\n",
    "    \n",
    "    elif x_flag == True:\n",
    "        padded_label=np.zeros((min_size,even_fuc(img_size[1]),even_func(img_size[2])),np.uint8)\n",
    "      \n",
    "        padded_label[round(x_offset/2):round(x_offset/2)+img_size[0],\n",
    "                     0:img_size[1],\n",
    "                     0:img_size[2]]=label\n",
    "        return padded_label\n",
    "    \n",
    "    elif y_flag == True:\n",
    "        padded_label=np.zeros((even_func(img_size[0]),min_size,even_func(img_size[2])),np.uint8)\n",
    "       \n",
    "        padded_label[0:img_size[0],\n",
    "                     round(y_offset/2):round(y_offset/2)+img_size[1],\n",
    "                     0:img_size[2]]=label\n",
    "        return padded_label\n",
    "    \n",
    "    elif z_flag == True:\n",
    "        padded_label=np.zeros((even_func(img_size[0]),even_func(img_size[1]),min_size),np.uint8)\n",
    "\n",
    "        padded_label[0:img_size[0],\n",
    "                     0:img_size[1],\n",
    "                     round(z_offset/2):round(z_offset/2)+img_size[2]]=label\n",
    "        return padded_label\n",
    "    \n",
    "    else:\n",
    "        padded_label=np.zeros((even_func(img_size[0]),even_func(img_size[1]),even_func(img_size[2])),np.uint8)\n",
    "       \n",
    "        padded_label[0:img_size[0],\n",
    "                     0:img_size[1],\n",
    "                     0:img_size[2]]=label\n",
    "        return padded_label\n",
    "\n",
    "def extract_positive(whole_label,box_size,smallest_ratio,step_size,mul_label,img_idx):\n",
    "    img_size=np.shape(whole_label)\n",
    "    bv_voxel_num=np.sum(whole_label)\n",
    "    positive_sub_volumes=[]\n",
    "    x_slice,y_slice,z_slice = ndimage.find_objects(whole_label)[0]\n",
    "    offset=5\n",
    "    \n",
    "    x_start = x_slice.stop-offset if x_slice.stop-offset >= box_size else box_size\n",
    "    x_stop = x_slice.start+box_size+offset if x_slice.start+box_size+offset <= img_size[0] else img_size[0]\n",
    "    \n",
    "    y_start = y_slice.stop-offset if y_slice.stop-offset >= box_size else box_size\n",
    "    y_stop = y_slice.start+box_size+offset if y_slice.start+box_size+offset <= img_size[1] else img_size[1]\n",
    "    \n",
    "    z_start = z_slice.stop-offset if z_slice.stop-offset >= box_size else box_size\n",
    "    z_stop = z_slice.start+box_size+offset if z_slice.start+box_size+offset <= img_size[2] else img_size[2]\n",
    "    \n",
    "    for i in range(x_start,x_stop+1,step_size):\n",
    "        for j in range(y_start,y_stop+1,step_size):\n",
    "            for k in range(z_start,z_stop+1,step_size):\n",
    "                contain_ratio = np.sum(whole_label[i-box_size:i,\n",
    "                                                   j-box_size:j,\n",
    "                                                   k-box_size:k])/(bv_voxel_num+0.001)\n",
    "            \n",
    "                if contain_ratio > smallest_ratio:\n",
    "                    positive_sub_volumes.append((img_idx,mul_label,(i,j,k)))\n",
    "    return positive_sub_volumes\n",
    "\n"
   ]
  },
  {
   "cell_type": "code",
   "execution_count": 4,
   "metadata": {},
   "outputs": [],
   "source": [
    "mutant_names = read_mutant_txt('mutant_imgs.txt')\n",
    "data_base_path = '/scratch/zq415/grammar_cor/Localization/data'\n",
    "data_folder_list = ['20180419_newdata_nii_with_filtered', 'new_data_20180522_nii', 'organized_data_nii']"
   ]
  },
  {
   "cell_type": "code",
   "execution_count": 5,
   "metadata": {},
   "outputs": [
    {
     "name": "stdout",
     "output_type": "stream",
     "text": [
      "574\n"
     ]
    }
   ],
   "source": [
    "all_BVs = []\n",
    "for cur_floder in data_folder_list:\n",
    "    cur_folder_path = os.path.join(data_base_path,cur_floder)\n",
    "    all_BVs += glob.glob(cur_folder_path+'/*/*/*[Bb][Vv]*')\n",
    "print(len(all_BVs))"
   ]
  },
  {
   "cell_type": "code",
   "execution_count": 6,
   "metadata": {},
   "outputs": [],
   "source": [
    "# all_data_dic = {}\n",
    "# same_name_num = 0\n",
    "# for full_bv_path in all_BVs:\n",
    "#     bv_file_name = os.path.basename(full_bv_path)\n",
    "#     if 'BV' in bv_file_name:\n",
    "#         if bv_file_name[:-14] in all_data_dic:\n",
    "#             same_name_num += 1\n",
    "#             continue\n",
    "#         all_data_dic[bv_file_name[:-14]] = full_bv_path\n",
    "#     else:\n",
    "#         if bv_file_name[:-9] in all_data_dic:\n",
    "#             same_name_num += 1\n",
    "#             continue\n",
    "#         all_data_dic[bv_file_name[:-9]] = full_bv_path\n",
    "\n",
    "all_data_dic = {}\n",
    "same_name_num = 0\n",
    "for full_bv_path in all_BVs:\n",
    "    bv_file_name = os.path.basename(full_bv_path)\n",
    "    if 'BV' in bv_file_name:\n",
    "        if bv_file_name[:-14] in all_data_dic:\n",
    "            same_name_num += 1\n",
    "            continue\n",
    "        all_data_dic[bv_file_name[:-14]] = full_bv_path[:-14] + '.nii'\n",
    "    else:\n",
    "        if bv_file_name[:-9] in all_data_dic:\n",
    "            same_name_num += 1\n",
    "            continue\n",
    "        all_data_dic[bv_file_name[:-9]] = full_bv_path[:-9] + '_2.nii'\n",
    "        "
   ]
  },
  {
   "cell_type": "code",
   "execution_count": 7,
   "metadata": {},
   "outputs": [
    {
     "data": {
      "text/plain": [
       "9"
      ]
     },
     "execution_count": 7,
     "metadata": {},
     "output_type": "execute_result"
    }
   ],
   "source": [
    "same_name_num"
   ]
  },
  {
   "cell_type": "code",
   "execution_count": 11,
   "metadata": {},
   "outputs": [
    {
     "name": "stdout",
     "output_type": "stream",
     "text": [
      "1\n",
      "2\n",
      "3\n",
      "4\n",
      "5\n"
     ]
    },
    {
     "ename": "KeyboardInterrupt",
     "evalue": "",
     "output_type": "error",
     "traceback": [
      "\u001b[0;31m---------------------------------------------------------------------------\u001b[0m",
      "\u001b[0;31mKeyboardInterrupt\u001b[0m                         Traceback (most recent call last)",
      "\u001b[0;32m<ipython-input-11-cc37387c1845>\u001b[0m in \u001b[0;36m<module>\u001b[0;34m\u001b[0m\n\u001b[1;32m     31\u001b[0m \u001b[0;32mfor\u001b[0m \u001b[0mkey\u001b[0m \u001b[0;32min\u001b[0m \u001b[0mall_data_dic\u001b[0m\u001b[0;34m:\u001b[0m\u001b[0;34m\u001b[0m\u001b[0m\n\u001b[1;32m     32\u001b[0m     \u001b[0mimg\u001b[0m \u001b[0;34m=\u001b[0m \u001b[0mnib\u001b[0m\u001b[0;34m.\u001b[0m\u001b[0mload\u001b[0m\u001b[0;34m(\u001b[0m\u001b[0mall_data_dic\u001b[0m\u001b[0;34m[\u001b[0m\u001b[0mkey\u001b[0m\u001b[0;34m]\u001b[0m\u001b[0;34m)\u001b[0m\u001b[0;34m\u001b[0m\u001b[0m\n\u001b[0;32m---> 33\u001b[0;31m     \u001b[0mimg\u001b[0m \u001b[0;34m=\u001b[0m \u001b[0mpadded_minimum_size\u001b[0m\u001b[0;34m(\u001b[0m\u001b[0mimg\u001b[0m\u001b[0;34m.\u001b[0m\u001b[0mget_data\u001b[0m\u001b[0;34m(\u001b[0m\u001b[0;34m)\u001b[0m\u001b[0;34m,\u001b[0m\u001b[0;36m128\u001b[0m\u001b[0;34m)\u001b[0m\u001b[0;34m\u001b[0m\u001b[0m\n\u001b[0m\u001b[1;32m     34\u001b[0m     \u001b[0mimg\u001b[0m \u001b[0;34m=\u001b[0m \u001b[0mzoom\u001b[0m\u001b[0;34m(\u001b[0m\u001b[0mimg\u001b[0m\u001b[0;34m,\u001b[0m\u001b[0;36m1\u001b[0m\u001b[0;34m/\u001b[0m\u001b[0;36m2\u001b[0m\u001b[0;34m)\u001b[0m \u001b[0;34m-\u001b[0m \u001b[0;36m0.5\u001b[0m\u001b[0;34m\u001b[0m\u001b[0m\n\u001b[1;32m     35\u001b[0m     \u001b[0;31m#bv_centroid = find_centroid(bv_label)\u001b[0m\u001b[0;34m\u001b[0m\u001b[0;34m\u001b[0m\u001b[0m\n",
      "\u001b[0;32m<ipython-input-3-6409ebb30705>\u001b[0m in \u001b[0;36mpadded_minimum_size\u001b[0;34m(label, min_size)\u001b[0m\n\u001b[1;32m     85\u001b[0m         padded_label[0:img_size[0],\n\u001b[1;32m     86\u001b[0m                      \u001b[0;36m0\u001b[0m\u001b[0;34m:\u001b[0m\u001b[0mimg_size\u001b[0m\u001b[0;34m[\u001b[0m\u001b[0;36m1\u001b[0m\u001b[0;34m]\u001b[0m\u001b[0;34m,\u001b[0m\u001b[0;34m\u001b[0m\u001b[0m\n\u001b[0;32m---> 87\u001b[0;31m                      0:img_size[2]]=label\n\u001b[0m\u001b[1;32m     88\u001b[0m         \u001b[0;32mreturn\u001b[0m \u001b[0mpadded_label\u001b[0m\u001b[0;34m\u001b[0m\u001b[0m\n\u001b[1;32m     89\u001b[0m \u001b[0;34m\u001b[0m\u001b[0m\n",
      "\u001b[0;31mKeyboardInterrupt\u001b[0m: "
     ]
    }
   ],
   "source": [
    "# all_train_data = []\n",
    "# all_idx = []\n",
    "# img_num = 0\n",
    "# normal_num = 0\n",
    "# mutant_num = 0\n",
    "# for key in all_data_dic:\n",
    "#     bv_label = nib.load(all_data_dic[key])\n",
    "#     bv_label = padded_minimum_size(bv_label.get_data(),128)\n",
    "#     bv_label=np.round(zoom(bv_label,1/2))\n",
    "#     #bv_centroid = find_centroid(bv_label)\n",
    "#     all_train_data.append(bv_label)\n",
    "#     if key in mutant_names:\n",
    "# #def extract_positive(whole_label,box_size,smallest_ratio,step_size,mul_label,img_idx):\n",
    "#         all_idx += extract_positive(bv_label,64,0.94,2,0,img_num)\n",
    "#         mutant_num += 1\n",
    "#         img_num += 1\n",
    "#     else:\n",
    "#         all_idx += extract_positive(bv_label,64,0.99,3,1,img_num)\n",
    "#         normal_num += 1\n",
    "#         img_num += 1\n",
    "#     print('train sample number: ', img_num)\n",
    "#     assert(len(all_train_data)==img_num)\n",
    "# print('mutant number: ', mutant_num)\n",
    "# print('normal number: ', normal_num)\n",
    "# print('train sample number: ', len(all_idx))\n",
    "all_train_data = []\n",
    "all_idx = []\n",
    "img_num = 0\n",
    "normal_num = 0\n",
    "mutant_num = 0\n",
    "for key in all_data_dic:\n",
    "    img = nib.load(all_data_dic[key])\n",
    "    img = padded_minimum_size(img.get_data(),128)\n",
    "    img = zoom(img,1/2) - 0.5\n",
    "    #bv_centroid = find_centroid(bv_label)\n",
    "    all_train_data.append(img)\n",
    "    img_num += 1\n",
    "    print(img_num)\n",
    "#     if key in mutant_names:\n",
    "# #def extract_positive(whole_label,box_size,smallest_ratio,step_size,mul_label,img_idx):\n",
    "#         all_idx += extract_positive(bv_label,64,0.94,2,0,img_num)\n",
    "#         mutant_num += 1\n",
    "#         img_num += 1\n",
    "#     else:\n",
    "#         all_idx += extract_positive(bv_label,64,0.99,3,1,img_num)\n",
    "#         normal_num += 1\n",
    "#         img_num += 1\n",
    "#     print('train sample number: ', img_num)\n",
    "#     assert(len(all_train_data)==img_num)\n",
    "# print('mutant number: ', mutant_num)\n",
    "# print('normal number: ', normal_num)\n",
    "# print('train sample number: ', len(all_idx))"
   ]
  },
  {
   "cell_type": "code",
   "execution_count": 8,
   "metadata": {},
   "outputs": [],
   "source": [
    "save_name = 'All_train_img_data.pickle'\n",
    "with open(os.path.join(os.getcwd(),'data',save_name), \"rb\") as input_file:\n",
    "    all_train_data, all_idx = pickle.load(input_file)"
   ]
  },
  {
   "cell_type": "code",
   "execution_count": 9,
   "metadata": {},
   "outputs": [],
   "source": [
    "# all_data = [all_train_data, all_idx]\n",
    "# save_name = 'All_train_img_data.pickle'\n",
    "# save_file = open(os.path.join(os.getcwd(),'data',save_name),'wb')\n",
    "# pickle.dump(all_data,save_file)\n",
    "# save_file.close()"
   ]
  },
  {
   "cell_type": "code",
   "execution_count": 10,
   "metadata": {},
   "outputs": [
    {
     "name": "stdout",
     "output_type": "stream",
     "text": [
      "147983 131853 279836\n"
     ]
    }
   ],
   "source": [
    "mut_sample_num = 0\n",
    "normal_sample_num = 0\n",
    "for i in range(len(all_idx)):\n",
    "    if all_idx[i][1] == 0:\n",
    "        mut_sample_num += 1\n",
    "    if all_idx[i][1] == 1:\n",
    "        normal_sample_num += 1\n",
    "print(mut_sample_num, normal_sample_num, len(all_idx))"
   ]
  },
  {
   "cell_type": "code",
   "execution_count": 11,
   "metadata": {},
   "outputs": [
    {
     "name": "stdout",
     "output_type": "stream",
     "text": [
      "103 [1, 3, 25, 48, 49, 51, 84, 91, 92, 93, 95, 103, 105, 124, 135, 139, 152, 153, 186, 187, 188, 189, 190, 192, 193, 194, 206, 216, 218, 221, 234, 235, 237, 239, 253, 255, 256, 257, 258, 268, 290, 293, 294, 300, 304, 305, 306, 307, 312, 316, 333, 334, 336, 340, 341, 352, 356, 357, 358, 359, 360, 361, 362, 363, 365, 366, 405, 407, 413, 416, 417, 419, 420, 421, 427, 428, 429, 434, 438, 440, 451, 452, 453, 454, 455, 458, 459, 460, 484, 496, 497, 499, 507, 508, 509, 520, 521, 523, 546, 548, 553, 555, 557]\n",
      "462 [0, 2, 4, 5, 6, 7, 8, 9, 10, 11, 12, 13, 14, 15, 16, 17, 18, 19, 20, 21, 22, 23, 24, 26, 27, 28, 29, 30, 31, 32, 33, 34, 35, 36, 37, 38, 39, 40, 41, 42, 43, 44, 45, 46, 47, 50, 52, 53, 54, 55, 56, 57, 58, 59, 60, 61, 62, 63, 64, 65, 66, 67, 68, 69, 70, 71, 72, 73, 74, 75, 76, 77, 78, 79, 80, 81, 82, 83, 85, 86, 87, 88, 89, 90, 94, 96, 97, 98, 99, 100, 101, 102, 104, 106, 107, 108, 109, 110, 111, 112, 113, 114, 115, 116, 117, 118, 119, 120, 121, 122, 123, 125, 126, 127, 128, 129, 130, 131, 132, 133, 134, 136, 137, 138, 140, 141, 142, 143, 144, 145, 146, 147, 148, 149, 150, 151, 154, 155, 156, 157, 158, 159, 160, 161, 162, 163, 164, 165, 166, 167, 168, 169, 170, 171, 172, 173, 174, 175, 176, 177, 178, 179, 180, 181, 182, 183, 184, 185, 191, 195, 196, 197, 198, 199, 200, 201, 202, 203, 204, 205, 207, 208, 209, 210, 211, 212, 213, 214, 215, 217, 219, 220, 222, 223, 224, 225, 226, 227, 228, 229, 230, 231, 232, 233, 236, 238, 240, 241, 242, 243, 244, 245, 246, 247, 248, 249, 250, 251, 252, 254, 259, 260, 261, 262, 263, 264, 265, 266, 267, 269, 270, 271, 272, 273, 274, 275, 276, 277, 278, 279, 280, 281, 282, 283, 284, 285, 286, 287, 288, 289, 291, 292, 295, 296, 297, 298, 299, 301, 302, 303, 308, 309, 310, 311, 313, 314, 315, 317, 318, 319, 320, 321, 322, 323, 324, 325, 326, 327, 328, 329, 330, 331, 332, 335, 337, 338, 339, 342, 343, 344, 345, 346, 347, 348, 349, 350, 351, 353, 354, 355, 364, 367, 368, 369, 370, 371, 372, 373, 374, 375, 376, 377, 378, 379, 380, 381, 382, 383, 384, 385, 386, 387, 388, 389, 390, 391, 392, 393, 394, 395, 396, 397, 398, 399, 400, 401, 402, 403, 404, 406, 408, 409, 410, 411, 412, 414, 415, 418, 422, 423, 424, 425, 426, 430, 431, 432, 433, 435, 436, 437, 439, 441, 442, 443, 444, 445, 446, 447, 448, 449, 450, 456, 457, 461, 462, 463, 464, 465, 466, 467, 468, 469, 470, 471, 472, 473, 474, 475, 476, 477, 478, 479, 480, 481, 482, 483, 485, 486, 487, 488, 489, 490, 491, 492, 493, 494, 495, 498, 500, 501, 502, 503, 504, 505, 506, 510, 511, 512, 513, 514, 515, 516, 517, 518, 519, 522, 524, 525, 526, 527, 528, 529, 530, 531, 532, 533, 534, 535, 536, 537, 538, 539, 540, 541, 542, 543, 544, 545, 547, 549, 550, 551, 552, 554, 556, 558, 559, 560, 561, 562, 563, 564]\n"
     ]
    }
   ],
   "source": [
    "mutant_list = []\n",
    "normal_list = []\n",
    "img_num = 0\n",
    "for i in range(len(all_idx)):\n",
    "    if all_idx[i][1] == 0:\n",
    "        mutant_list.append(all_idx[i][0])\n",
    "    else:\n",
    "        normal_list.append(all_idx[i][0])\n",
    "print(len(set(mutant_list)), list(np.sort(list(set(mutant_list)))))\n",
    "print(len(set(normal_list)), list(np.sort(list(set(normal_list)))))"
   ]
  },
  {
   "cell_type": "code",
   "execution_count": 12,
   "metadata": {},
   "outputs": [
    {
     "name": "stdout",
     "output_type": "stream",
     "text": [
      "mutant:  [1, 3, 25, 48, 49, 51, 84, 91, 92, 93, 95, 103, 105, 124, 135, 139, 152, 153, 186, 187, 188, 189, 190, 192, 193, 194, 206, 216, 218, 221, 234, 235, 237, 239, 253, 255, 256, 257, 258, 268, 290, 293, 294, 300, 304, 305, 306, 307, 312, 316, 333, 334, 336, 340, 341, 352, 356, 357, 358, 359, 360, 361, 362, 363, 365, 366, 405, 407, 413, 416, 417, 419, 420, 421, 427, 428, 429, 434, 438, 440, 451, 452, 453, 454, 455, 458, 459, 460, 484, 496, 497, 499, 507, 508, 509, 520, 521, 523, 546, 548, 553, 555, 557]\n",
      "normal:  [0, 2, 4, 5, 6, 7, 8, 9, 10, 11, 12, 13, 14, 15, 16, 17, 18, 19, 20, 21, 22, 23, 24, 26, 27, 28, 29, 30, 31, 32, 33, 34, 35, 36, 37, 38, 39, 40, 41, 42, 43, 44, 45, 46, 47, 50, 52, 53, 54, 55, 56, 57, 58, 59, 60, 61, 62, 63, 64, 65, 66, 67, 68, 69, 70, 71, 72, 73, 74, 75, 76, 77, 78, 79, 80, 81, 82, 83, 85, 86, 87, 88, 89, 90, 94, 96, 97, 98, 99, 100, 101, 102, 104, 106, 107, 108, 109, 110, 111, 112, 113, 114, 115, 116, 117, 118, 119, 120, 121, 122, 123, 125, 126, 127, 128, 129, 130, 131, 132, 133, 134, 136, 137, 138, 140, 141, 142, 143, 144, 145, 146, 147, 148, 149, 150, 151, 154, 155, 156, 157, 158, 159, 160, 161, 162, 163, 164, 165, 166, 167, 168, 169, 170, 171, 172, 173, 174, 175, 176, 177, 178, 179, 180, 181, 182, 183, 184, 185, 191, 195, 196, 197, 198, 199, 200, 201, 202, 203, 204, 205, 207, 208, 209, 210, 211, 212, 213, 214, 215, 217, 219, 220, 222, 223, 224, 225, 226, 227, 228, 229, 230, 231, 232, 233, 236, 238, 240, 241, 242, 243, 244, 245, 246, 247, 248, 249, 250, 251, 252, 254, 259, 260, 261, 262, 263, 264, 265, 266, 267, 269, 270, 271, 272, 273, 274, 275, 276, 277, 278, 279, 280, 281, 282, 283, 284, 285, 286, 287, 288, 289, 291, 292, 295, 296, 297, 298, 299, 301, 302, 303, 308, 309, 310, 311, 313, 314, 315, 317, 318, 319, 320, 321, 322, 323, 324, 325, 326, 327, 328, 329, 330, 331, 332, 335, 337, 338, 339, 342, 343, 344, 345, 346, 347, 348, 349, 350, 351, 353, 354, 355, 364, 367, 368, 369, 370, 371, 372, 373, 374, 375, 376, 377, 378, 379, 380, 381, 382, 383, 384, 385, 386, 387, 388, 389, 390, 391, 392, 393, 394, 395, 396, 397, 398, 399, 400, 401, 402, 403, 404, 406, 408, 409, 410, 411, 412, 414, 415, 418, 422, 423, 424, 425, 426, 430, 431, 432, 433, 435, 436, 437, 439, 441, 442, 443, 444, 445, 446, 447, 448, 449, 450, 456, 457, 461, 462, 463, 464, 465, 466, 467, 468, 469, 470, 471, 472, 473, 474, 475, 476, 477, 478, 479, 480, 481, 482, 483, 485, 486, 487, 488, 489, 490, 491, 492, 493, 494, 495, 498, 500, 501, 502, 503, 504, 505, 506, 510, 511, 512, 513, 514, 515, 516, 517, 518, 519, 522, 524, 525, 526, 527, 528, 529, 530, 531, 532, 533, 534, 535, 536, 537, 538, 539, 540, 541, 542, 543, 544, 545, 547, 549, 550, 551, 552, 554, 556, 558, 559, 560, 561, 562, 563, 564]\n"
     ]
    }
   ],
   "source": [
    "mutant_list = list(np.sort(list(set(mutant_list))))\n",
    "normal_list = list(np.sort(list(set(normal_list))))\n",
    "print('mutant: ', mutant_list)\n",
    "print('normal: ', normal_list)"
   ]
  },
  {
   "cell_type": "code",
   "execution_count": 13,
   "metadata": {},
   "outputs": [],
   "source": [
    "#img_nft = nib.Nifti1Image(np.squeeze(all_train_data[193]),np.eye(4))\n",
    "#img_save_data_path = './img/mul_img.nii'\n",
    "#nib.save(img_nft,img_save_data_path)"
   ]
  },
  {
   "cell_type": "code",
   "execution_count": 14,
   "metadata": {},
   "outputs": [
    {
     "data": {
      "text/plain": [
       "103"
      ]
     },
     "execution_count": 14,
     "metadata": {},
     "output_type": "execute_result"
    }
   ],
   "source": [
    "len(mutant_list)"
   ]
  },
  {
   "cell_type": "code",
   "execution_count": 15,
   "metadata": {},
   "outputs": [
    {
     "name": "stdout",
     "output_type": "stream",
     "text": [
      "test_mutant_list [25, 103, 188, 221, 258, 307, 356, 366, 427, 454, 507, 555]\n",
      "train_mutant_list [1, 3, 48, 49, 51, 84, 91, 92, 93, 95, 105, 124, 135, 139, 152, 153, 186, 187, 189, 190, 192, 193, 194, 206, 216, 218, 234, 235, 237, 239, 253, 255, 256, 257, 268, 290, 293, 294, 300, 304, 305, 306, 312, 316, 333, 334, 336, 340, 341, 352, 357, 358, 359, 360, 361, 362, 363, 365, 405, 407, 413, 416, 417, 419, 420, 421, 428, 429, 434, 438, 440, 451, 452, 453, 455, 458, 459, 460, 484, 496, 497, 499, 508, 509, 520, 521, 523, 546, 548, 553, 557]\n",
      "test_normal_list [4, 13, 22, 32, 41, 53, 62, 71, 80, 90, 104, 114, 123, 133, 144, 155, 164, 173, 182, 199, 209, 220, 230, 243, 252, 266, 276, 285, 297, 311, 322, 331, 345, 355, 374, 383, 392, 401, 412, 430, 442, 456, 468, 477, 487, 498, 511, 522, 532, 541, 552, 564]\n",
      "train_normal_list [0, 2, 5, 6, 7, 8, 9, 10, 11, 12, 14, 15, 16, 17, 18, 19, 20, 21, 23, 24, 26, 27, 28, 29, 30, 31, 33, 34, 35, 36, 37, 38, 39, 40, 42, 43, 44, 45, 46, 47, 50, 52, 54, 55, 56, 57, 58, 59, 60, 61, 63, 64, 65, 66, 67, 68, 69, 70, 72, 73, 74, 75, 76, 77, 78, 79, 81, 82, 83, 85, 86, 87, 88, 89, 94, 96, 97, 98, 99, 100, 101, 102, 106, 107, 108, 109, 110, 111, 112, 113, 115, 116, 117, 118, 119, 120, 121, 122, 125, 126, 127, 128, 129, 130, 131, 132, 134, 136, 137, 138, 140, 141, 142, 143, 145, 146, 147, 148, 149, 150, 151, 154, 156, 157, 158, 159, 160, 161, 162, 163, 165, 166, 167, 168, 169, 170, 171, 172, 174, 175, 176, 177, 178, 179, 180, 181, 183, 184, 185, 191, 195, 196, 197, 198, 200, 201, 202, 203, 204, 205, 207, 208, 210, 211, 212, 213, 214, 215, 217, 219, 222, 223, 224, 225, 226, 227, 228, 229, 231, 232, 233, 236, 238, 240, 241, 242, 244, 245, 246, 247, 248, 249, 250, 251, 254, 259, 260, 261, 262, 263, 264, 265, 267, 269, 270, 271, 272, 273, 274, 275, 277, 278, 279, 280, 281, 282, 283, 284, 286, 287, 288, 289, 291, 292, 295, 296, 298, 299, 301, 302, 303, 308, 309, 310, 313, 314, 315, 317, 318, 319, 320, 321, 323, 324, 325, 326, 327, 328, 329, 330, 332, 335, 337, 338, 339, 342, 343, 344, 346, 347, 348, 349, 350, 351, 353, 354, 364, 367, 368, 369, 370, 371, 372, 373, 375, 376, 377, 378, 379, 380, 381, 382, 384, 385, 386, 387, 388, 389, 390, 391, 393, 394, 395, 396, 397, 398, 399, 400, 402, 403, 404, 406, 408, 409, 410, 411, 414, 415, 418, 422, 423, 424, 425, 426, 431, 432, 433, 435, 436, 437, 439, 441, 443, 444, 445, 446, 447, 448, 449, 450, 457, 461, 462, 463, 464, 465, 466, 467, 469, 470, 471, 472, 473, 474, 475, 476, 478, 479, 480, 481, 482, 483, 485, 486, 488, 489, 490, 491, 492, 493, 494, 495, 500, 501, 502, 503, 504, 505, 506, 510, 512, 513, 514, 515, 516, 517, 518, 519, 524, 525, 526, 527, 528, 529, 530, 531, 533, 534, 535, 536, 537, 538, 539, 540, 542, 543, 544, 545, 547, 549, 550, 551, 554, 556, 558, 559, 560, 561, 562, 563]\n"
     ]
    }
   ],
   "source": [
    "test_mutant_list = mutant_list[2:len(mutant_list):9]\n",
    "test_normal_list = normal_list[2:len(normal_list):9]\n",
    "train_mutant_list = [x for x in mutant_list if x not in test_mutant_list]\n",
    "train_normal_list = [x for x in normal_list if x not in test_normal_list]\n",
    "print('test_mutant_list', test_mutant_list)\n",
    "print('train_mutant_list', train_mutant_list)\n",
    "print('test_normal_list', test_normal_list)\n",
    "print('train_normal_list', train_normal_list)\n",
    "test_img_list = test_mutant_list + test_normal_list\n",
    "train_img_list = train_mutant_list + train_normal_list"
   ]
  },
  {
   "cell_type": "code",
   "execution_count": 16,
   "metadata": {},
   "outputs": [],
   "source": [
    "test_idx = []\n",
    "train_idx = []\n",
    "for i in range(len(all_idx)):\n",
    "    if all_idx[i][0] in test_img_list:\n",
    "        test_idx.append(all_idx[i])\n",
    "    elif all_idx[i][0] in train_img_list:\n",
    "        train_idx.append(all_idx[i])\n",
    "    else:\n",
    "        print('something wrong')"
   ]
  },
  {
   "cell_type": "code",
   "execution_count": 17,
   "metadata": {},
   "outputs": [],
   "source": [
    "from torch.utils.data import Dataset, DataLoader\n",
    "\n",
    "class Mouse_sub_volumes(Dataset):\n",
    "    \"\"\"Mouse sub-volumes BV dataset.\"\"\"\n",
    "\n",
    "    def __init__(self, all_whole_volumes, all_idx, transform=None):\n",
    "        \"\"\"\n",
    "        Args:\n",
    "            all_whole_volumes: Contain all the padded whole BV volumes as a dic\n",
    "            transform (callable, optional): Optional transform to be applied\n",
    "                on a sample.\n",
    "        \"\"\"\n",
    "        self.whole_volumes = all_whole_volumes\n",
    "        self.idx = all_idx\n",
    "        self.transform = transform\n",
    "    def __len__(self):\n",
    "        return len(self.idx)\n",
    "\n",
    "    def __getitem__(self, num):\n",
    "        #idx [0] dictionary index, [1] label(0 or 1), [2] x, y, z sub-volumes index\n",
    "        box_size=64\n",
    "        current_img = self.idx[num][0]\n",
    "        label = self.idx[num][1]\n",
    "        x, y, z = self.idx[num][2]\n",
    "        img = self.whole_volumes[current_img][x-box_size:x,\n",
    "                                             y-box_size:y,\n",
    "                                             z-box_size:z]\n",
    "        img = np.float32(img[np.newaxis,...])\n",
    "        sample = {'image': img, 'label': label, 'img_idx': current_img}\n",
    "        return sample"
   ]
  },
  {
   "cell_type": "code",
   "execution_count": 18,
   "metadata": {},
   "outputs": [],
   "source": [
    "class Rotate(object):\n",
    "    \n",
    "    \"\"\"\n",
    "    Rotate the image for data augmentation, but prefer original image.\n",
    "    \"\"\"\n",
    "    \n",
    "    def __init__(self,ori_probability=0.30):\n",
    "        self.ori_probability = ori_probability\n",
    "        #1:(0,0,0), 2:(90,0,0), 3:(180,0,0), 4:(270,0,0), 5:(0,90,0), 6:(0,270,0)\n",
    "        self.face_to_you = [1,2,3,4,5,6]\n",
    "        #rotate along z axis, so that we 24 combination totally\n",
    "        # 1:0 degree, 2: 90 degree, 3: 180 degree, 4: 270 degree\n",
    "        self.rotate_z = [1,2,3,4]\n",
    "\n",
    "    def __call__(self, sample):\n",
    "        if random.uniform(0,1) < self.ori_probability:\n",
    "            return sample\n",
    "        else:\n",
    "            img, label, current_img = sample['image'], sample['label'], sample['img_idx']\n",
    "            random_choise1=random.choice(self.face_to_you)\n",
    "            rotated_img1 = {1: lambda x: x,\n",
    "                            2: lambda x: ndimage.rotate(x,90,(1,2),reshape='True',mode = 'nearest'),\n",
    "                            3: lambda x: ndimage.rotate(x,180,(1,2),reshape='True',mode = 'nearest'),\n",
    "                            4: lambda x: ndimage.rotate(x,270,(1,2),reshape='True',mode = 'nearest'),\n",
    "                            5: lambda x: ndimage.rotate(x,90,(0,2),reshape='True',mode = 'nearest'),\n",
    "                            6: lambda x: ndimage.rotate(x,270,(0,2),reshape='True',mode = 'nearest')\n",
    "                            }[random_choise1](img[0,...])\n",
    "            random_choise2=random.choice(self.rotate_z)\n",
    "            img[0,...] = {1: lambda x: x,\n",
    "                            2: lambda x: ndimage.rotate(x,90,(0,1),reshape='True',mode = 'nearest'),\n",
    "                            3: lambda x: ndimage.rotate(x,180,(0,1),reshape='True',mode = 'nearest'),\n",
    "                            4: lambda x: ndimage.rotate(x,270,(0,1),reshape='True',mode = 'nearest')\n",
    "                            }[random_choise2](rotated_img1)\n",
    "                \n",
    "        return {'image': img, 'label': label, 'img_idx': current_img}\n",
    "\n",
    "class Flip(object):\n",
    "    \n",
    "    \"\"\"\n",
    "    Flip the image for data augmentation, but prefer original image.\n",
    "    \"\"\"\n",
    "    \n",
    "    def __init__(self,ori_probability=0.30):\n",
    "        self.ori_probability = ori_probability\n",
    "\n",
    "    def __call__(self, sample):\n",
    "        if random.uniform(0,1) < self.ori_probability:\n",
    "            return sample\n",
    "        else:\n",
    "            img, label, current_img = sample['image'], sample['label'], sample['img_idx']\n",
    "            random_choise1=random.choice([1,2,3,4,5,6,7,8])\n",
    "            img[0,...] = {1: lambda x: x,\n",
    "                          2: lambda x: x[::-1,:,:],\n",
    "                          3: lambda x: x[:,::-1,:],\n",
    "                          4: lambda x: x[:,:,::-1],\n",
    "                          5: lambda x: x[::-1,::-1,:],\n",
    "                          6: lambda x: x[::-1,:,::-1],\n",
    "                          7: lambda x: x[:,::-1,::-1],\n",
    "                          8: lambda x: x[::-1,::-1,::-1]\n",
    "                          }[random_choise1](img[0,...])\n",
    "        return {'image': img, 'label': label, 'img_idx': current_img}"
   ]
  },
  {
   "cell_type": "code",
   "execution_count": 19,
   "metadata": {},
   "outputs": [],
   "source": [
    "import torch.nn as nn\n",
    "import torch.nn.functional as F\n",
    "import torch\n",
    "\n",
    "class VGG_net(nn.Module):\n",
    "    def __init__(self,conv_drop_rate=0.15,linear_drop_rate=0.4):\n",
    "        super(VGG_net, self).__init__()\n",
    "        self.conv1 = nn.Conv3d(in_channels=1, out_channels=8, kernel_size=3,stride=1, padding=1)\n",
    "        self.conv1_bn = nn.BatchNorm3d(8)\n",
    "        self.conv2 = nn.Conv3d(in_channels=8, out_channels=8, kernel_size=3,stride=1,padding=1)\n",
    "        self.conv2_bn = nn.BatchNorm3d(8)\n",
    "        self.pool1 = nn.MaxPool3d(2, 2)\n",
    "        self.dropout1 = nn.Dropout3d(conv_drop_rate)\n",
    "        \n",
    "        self.conv3 = nn.Conv3d(in_channels=8, out_channels=12, kernel_size=3,stride=1, padding=1)\n",
    "        self.conv3_bn = nn.BatchNorm3d(12)\n",
    "        self.conv4 = nn.Conv3d(in_channels=12, out_channels=12, kernel_size=3,stride=1, padding=1)\n",
    "        self.conv4_bn = nn.BatchNorm3d(12)\n",
    "        self.pool2 = nn.MaxPool3d(2, 2)\n",
    "        self.dropout2 = nn.Dropout3d(conv_drop_rate)\n",
    "        \n",
    "        self.conv5 = nn.Conv3d(in_channels=12, out_channels=18, kernel_size=3,stride=1, padding=1)\n",
    "        self.conv5_bn = nn.BatchNorm3d(18)\n",
    "        self.conv6 = nn.Conv3d(in_channels=18, out_channels=18, kernel_size=3,stride=1, padding=1)\n",
    "        self.conv6_bn = nn.BatchNorm3d(18)\n",
    "        self.pool3 = nn.MaxPool3d(2, 2)\n",
    "        self.dropout3 = nn.Dropout3d(conv_drop_rate)\n",
    "        \n",
    "        self.conv7 = nn.Conv3d(in_channels=18, out_channels=24, kernel_size=3,stride=1, padding=1)\n",
    "        self.conv7_bn = nn.BatchNorm3d(24)\n",
    "        self.conv8 = nn.Conv3d(in_channels=24, out_channels=24, kernel_size=3,stride=1, padding=1)\n",
    "        self.conv8_bn = nn.BatchNorm3d(24)\n",
    "        self.pool4 = nn.MaxPool3d(2, 2)\n",
    "        self.dropout4 = nn.Dropout3d(conv_drop_rate)\n",
    "        \n",
    "        self.fc1 = nn.Linear(4*4*4*24, 128)\n",
    "        self.fc1_bn = nn.BatchNorm1d(128)\n",
    "        self.dropout5 = nn.Dropout(linear_drop_rate)\n",
    "        self.fc2 = nn.Linear(128, 2)\n",
    "        \n",
    "    def forward(self, x):        \n",
    "        x = self.conv1_bn(F.relu(self.conv1(x)))\n",
    "        x = self.dropout1(self.pool1(self.conv2_bn(F.relu(self.conv2(x)))))\n",
    "        \n",
    "        x = self.conv3_bn(F.relu(self.conv3(x)))\n",
    "        x = self.dropout2(self.pool2(self.conv4_bn(F.relu(self.conv4(x)))))\n",
    "        \n",
    "        x = self.conv5_bn(F.relu(self.conv5(x)))\n",
    "        x = self.dropout3(self.pool3(self.conv6_bn(F.relu(self.conv6(x)))))\n",
    "        \n",
    "        x = self.conv7_bn(F.relu(self.conv7(x)))\n",
    "        x = self.dropout4(self.pool4(self.conv8_bn(F.relu(self.conv8(x)))))\n",
    "        \n",
    "        x = x.view(-1, 4*4*4*24)\n",
    "        x = self.dropout5(self.fc1_bn(F.relu(self.fc1(x))))\n",
    "        x = self.fc2(x)\n",
    "        return x\n"
   ]
  },
  {
   "cell_type": "code",
   "execution_count": 20,
   "metadata": {},
   "outputs": [],
   "source": [
    "def train(model, device, train_loader, optimizer, criterion, epoch):\n",
    "    model.train()\n",
    "    running_loss = 0.0\n",
    "    for i_batch, sample_batched in enumerate(train_loader):\n",
    "        inputs, labels = sample_batched['image'], sample_batched['label']  \n",
    "        inputs, labels = inputs.to(device), labels.to(device)\n",
    "        \n",
    "        # zero the parameter gradients\n",
    "        optimizer.zero_grad()\n",
    "\n",
    "        # forward + backward + optimize\n",
    "        outputs = model(inputs)\n",
    "        loss = criterion(outputs, labels)\n",
    "        loss.backward()\n",
    "        optimizer.step()\n",
    "\n",
    "        # print statistics\n",
    "        running_loss += loss.item()\n",
    "        if i_batch % 10 == 0:\n",
    "            print(\"epoch {}, batch {}, current loss {}\".format(epoch+1,i_batch,running_loss/10))\n",
    "            running_loss = 0.0\n"
   ]
  },
  {
   "cell_type": "code",
   "execution_count": 21,
   "metadata": {},
   "outputs": [
    {
     "name": "stdout",
     "output_type": "stream",
     "text": [
      "Let's use 2 GPUs!\n",
      "There are 247842 parameters in the model\n",
      "choose SGD as optimizer\n",
      "epoch 1, batch 0, current loss 0.07423669099807739\n",
      "epoch 1, batch 10, current loss 0.7116066098213196\n",
      "epoch 1, batch 20, current loss 0.6946010112762451\n",
      "epoch 1, batch 30, current loss 0.6910648882389069\n",
      "epoch 1, batch 40, current loss 0.6862475514411926\n",
      "epoch 1, batch 50, current loss 0.6801710486412048\n",
      "epoch 1, batch 60, current loss 0.6868126034736634\n",
      "epoch 1, batch 70, current loss 0.675414764881134\n",
      "epoch 1, batch 80, current loss 0.6837095320224762\n",
      "epoch 1, batch 90, current loss 0.6810722887516022\n",
      "epoch 1, batch 100, current loss 0.6755742371082306\n",
      "epoch 1, batch 110, current loss 0.6876727163791656\n",
      "epoch 1, batch 120, current loss 0.6865095913410186\n",
      "epoch 1, batch 130, current loss 0.6822745144367218\n",
      "epoch 1, batch 140, current loss 0.6942299008369446\n",
      "epoch 1, batch 150, current loss 0.6876265347003937\n",
      "epoch 1, batch 160, current loss 0.6773706793785095\n",
      "epoch 1, batch 170, current loss 0.6851644039154052\n",
      "epoch 1, batch 180, current loss 0.6873457968235016\n",
      "epoch 1, batch 190, current loss 0.699546617269516\n",
      "epoch 1, batch 200, current loss 0.6908219277858734\n",
      "epoch 1, batch 210, current loss 0.6734713196754456\n",
      "epoch 1, batch 220, current loss 0.6772545874118805\n",
      "epoch 1, batch 230, current loss 0.68188197016716\n",
      "epoch 1, batch 240, current loss 0.6897656977176666\n",
      "epoch 1, batch 250, current loss 0.691798335313797\n",
      "epoch 1, batch 260, current loss 0.6902632474899292\n",
      "epoch 1, batch 270, current loss 0.6883686780929565\n",
      "epoch 1, batch 280, current loss 0.6881365835666656\n",
      "epoch 1, batch 290, current loss 0.6902690529823303\n",
      "epoch 1, batch 300, current loss 0.6773760974407196\n",
      "epoch 1, batch 310, current loss 0.6846672832965851\n",
      "epoch 1, batch 320, current loss 0.6944071114063263\n",
      "epoch 1, batch 330, current loss 0.6775067269802093\n",
      "epoch 1, batch 340, current loss 0.6731536746025085\n",
      "epoch 1, batch 350, current loss 0.6921829223632813\n",
      "epoch 1, batch 360, current loss 0.6893227994441986\n",
      "epoch 1, batch 370, current loss 0.6770090818405151\n",
      "epoch 1, batch 380, current loss 0.6784914553165435\n",
      "epoch 1, batch 390, current loss 0.6909263551235199\n",
      "epoch 1, batch 400, current loss 0.6879329204559326\n",
      "epoch 1, batch 410, current loss 0.6796077370643616\n",
      "epoch 1, batch 420, current loss 0.6894176304340363\n",
      "epoch 1, batch 430, current loss 0.6806345343589782\n",
      "epoch 1, batch 440, current loss 0.680727231502533\n",
      "epoch 1, batch 450, current loss 0.6805196762084961\n",
      "epoch 1, batch 460, current loss 0.6915997207164765\n",
      "epoch 1, batch 470, current loss 0.6826278150081635\n",
      "epoch 1, batch 480, current loss 0.6827469348907471\n",
      "epoch 1, batch 490, current loss 0.6892818331718444\n",
      "epoch 1, batch 500, current loss 0.6829157471656799\n",
      "epoch 1, batch 510, current loss 0.6777903139591217\n",
      "epoch 1, batch 520, current loss 0.6813001036643982\n",
      "epoch 1, batch 530, current loss 0.6896683812141419\n",
      "epoch 1, batch 540, current loss 0.6850177109241485\n",
      "epoch 1, batch 550, current loss 0.6902294635772706\n",
      "epoch 1, batch 560, current loss 0.6837206780910492\n",
      "epoch 1, batch 570, current loss 0.6746734797954559\n",
      "epoch 1, batch 580, current loss 0.6875267922878265\n",
      "epoch 1, batch 590, current loss 0.6778715491294861\n",
      "epoch 1, batch 600, current loss 0.6767672955989837\n",
      "epoch 1, batch 610, current loss 0.6970832228660584\n",
      "epoch 1, batch 620, current loss 0.6780222654342651\n",
      "epoch 1, batch 630, current loss 0.685574984550476\n",
      "epoch 1, batch 640, current loss 0.6889381110668182\n",
      "epoch 1, batch 650, current loss 0.6810361325740815\n",
      "epoch 1, batch 660, current loss 0.6830244183540344\n",
      "epoch 1, batch 670, current loss 0.6816582024097443\n",
      "epoch 1, batch 680, current loss 0.6874239385128021\n",
      "epoch 1, batch 690, current loss 0.690549236536026\n",
      "epoch 2, batch 0, current loss 0.06720172762870788\n",
      "epoch 2, batch 10, current loss 0.6904073715209961\n",
      "epoch 2, batch 20, current loss 0.6896858096122742\n",
      "epoch 2, batch 30, current loss 0.6844676673412323\n",
      "epoch 2, batch 40, current loss 0.6904439330101013\n",
      "epoch 2, batch 50, current loss 0.6937098562717438\n",
      "epoch 2, batch 60, current loss 0.6943424344062805\n",
      "epoch 2, batch 70, current loss 0.6892772912979126\n",
      "epoch 2, batch 80, current loss 0.6939735293388367\n",
      "epoch 2, batch 90, current loss 0.694467031955719\n",
      "epoch 2, batch 100, current loss 0.6794618785381317\n",
      "epoch 2, batch 110, current loss 0.6864870727062226\n",
      "epoch 2, batch 120, current loss 0.6917945921421051\n",
      "epoch 2, batch 130, current loss 0.6890636920928955\n",
      "epoch 2, batch 140, current loss 0.6772341847419738\n",
      "epoch 2, batch 150, current loss 0.6851222932338714\n",
      "epoch 2, batch 160, current loss 0.693437784910202\n",
      "epoch 2, batch 170, current loss 0.6837555766105652\n",
      "epoch 2, batch 180, current loss 0.6891109883785248\n",
      "epoch 2, batch 190, current loss 0.6873982548713684\n",
      "epoch 2, batch 200, current loss 0.6779012143611908\n",
      "epoch 2, batch 210, current loss 0.691091138124466\n",
      "epoch 2, batch 220, current loss 0.6899447917938233\n",
      "epoch 2, batch 230, current loss 0.6825115144252777\n",
      "epoch 2, batch 240, current loss 0.6862776041030884\n",
      "epoch 2, batch 250, current loss 0.6741873979568481\n",
      "epoch 2, batch 260, current loss 0.6836150348186493\n",
      "epoch 2, batch 270, current loss 0.688544487953186\n",
      "epoch 2, batch 280, current loss 0.6862557649612426\n",
      "epoch 2, batch 290, current loss 0.6876198768615722\n",
      "epoch 2, batch 300, current loss 0.678969657421112\n",
      "epoch 2, batch 310, current loss 0.6958553493022919\n",
      "epoch 2, batch 320, current loss 0.6823827385902405\n",
      "epoch 2, batch 330, current loss 0.684092378616333\n",
      "epoch 2, batch 340, current loss 0.6855290293693542\n",
      "epoch 2, batch 350, current loss 0.6930659055709839\n",
      "epoch 2, batch 360, current loss 0.6805265188217163\n",
      "epoch 2, batch 370, current loss 0.6875034272670746\n",
      "epoch 2, batch 380, current loss 0.6790047764778138\n",
      "epoch 2, batch 390, current loss 0.6837947428226471\n",
      "epoch 2, batch 400, current loss 0.6853891253471375\n",
      "epoch 2, batch 410, current loss 0.687558776140213\n",
      "epoch 2, batch 420, current loss 0.6751022160053253\n",
      "epoch 2, batch 430, current loss 0.6856850683689117\n",
      "epoch 2, batch 440, current loss 0.6819446504116058\n",
      "epoch 2, batch 450, current loss 0.6804142117500305\n",
      "epoch 2, batch 460, current loss 0.6860670626163483\n",
      "epoch 2, batch 470, current loss 0.6939320981502533\n",
      "epoch 2, batch 480, current loss 0.6845799446105957\n",
      "epoch 2, batch 490, current loss 0.6862887978553772\n",
      "epoch 2, batch 500, current loss 0.689140772819519\n",
      "epoch 2, batch 510, current loss 0.6723246097564697\n",
      "epoch 2, batch 520, current loss 0.6846107006072998\n",
      "epoch 2, batch 530, current loss 0.683938455581665\n",
      "epoch 2, batch 540, current loss 0.6850451350212097\n",
      "epoch 2, batch 550, current loss 0.6802036106586457\n",
      "epoch 2, batch 560, current loss 0.6833693027496338\n",
      "epoch 2, batch 570, current loss 0.6899112939834595\n",
      "epoch 2, batch 580, current loss 0.6840462327003479\n",
      "epoch 2, batch 590, current loss 0.6914714694023132\n",
      "epoch 2, batch 600, current loss 0.6805290043354034\n",
      "epoch 2, batch 610, current loss 0.6815733492374421\n",
      "epoch 2, batch 620, current loss 0.6765850961208344\n",
      "epoch 2, batch 630, current loss 0.6785034775733948\n",
      "epoch 2, batch 640, current loss 0.6865648329257965\n",
      "epoch 2, batch 650, current loss 0.6804557800292969\n",
      "epoch 2, batch 660, current loss 0.6828247308731079\n",
      "epoch 2, batch 670, current loss 0.6820762157440186\n",
      "epoch 2, batch 680, current loss 0.6828095376491546\n",
      "epoch 2, batch 690, current loss 0.6915100038051605\n",
      "epoch 3, batch 0, current loss 0.0670464277267456\n",
      "epoch 3, batch 10, current loss 0.682565301656723\n",
      "epoch 3, batch 20, current loss 0.6770911335945129\n",
      "epoch 3, batch 30, current loss 0.678066611289978\n",
      "epoch 3, batch 40, current loss 0.6815894424915314\n",
      "epoch 3, batch 50, current loss 0.6876740396022797\n",
      "epoch 3, batch 60, current loss 0.6879792273044586\n",
      "epoch 3, batch 70, current loss 0.6819407761096954\n",
      "epoch 3, batch 80, current loss 0.6776447355747223\n",
      "epoch 3, batch 90, current loss 0.678008621931076\n",
      "epoch 3, batch 100, current loss 0.6833303213119507\n",
      "epoch 3, batch 110, current loss 0.6741078734397888\n",
      "epoch 3, batch 120, current loss 0.6866511166095733\n",
      "epoch 3, batch 130, current loss 0.6770981848239899\n",
      "epoch 3, batch 140, current loss 0.6824716210365296\n",
      "epoch 3, batch 150, current loss 0.6817184388637543\n",
      "epoch 3, batch 160, current loss 0.6832292556762696\n"
     ]
    },
    {
     "name": "stdout",
     "output_type": "stream",
     "text": [
      "epoch 3, batch 170, current loss 0.677375054359436\n",
      "epoch 3, batch 180, current loss 0.6721486210823059\n",
      "epoch 3, batch 190, current loss 0.6867312967777253\n",
      "epoch 3, batch 200, current loss 0.6754566311836243\n",
      "epoch 3, batch 210, current loss 0.6809603691101074\n",
      "epoch 3, batch 220, current loss 0.6843734085559845\n",
      "epoch 3, batch 230, current loss 0.6757765054702759\n",
      "epoch 3, batch 240, current loss 0.6724774479866028\n",
      "epoch 3, batch 250, current loss 0.6673255264759064\n",
      "epoch 3, batch 260, current loss 0.6872805118560791\n",
      "epoch 3, batch 270, current loss 0.6773602426052093\n",
      "epoch 3, batch 280, current loss 0.6773537516593933\n",
      "epoch 3, batch 290, current loss 0.6827255129814148\n",
      "epoch 3, batch 300, current loss 0.6779629349708557\n",
      "epoch 3, batch 310, current loss 0.6802035689353942\n",
      "epoch 3, batch 320, current loss 0.6830205798149109\n",
      "epoch 3, batch 330, current loss 0.6812324345111846\n",
      "epoch 3, batch 340, current loss 0.6776744365692139\n",
      "epoch 3, batch 350, current loss 0.6840332746505737\n",
      "epoch 3, batch 360, current loss 0.6815719723701477\n",
      "epoch 3, batch 370, current loss 0.686728173494339\n",
      "epoch 3, batch 380, current loss 0.6763133764266968\n",
      "epoch 3, batch 390, current loss 0.6748739719390869\n",
      "epoch 3, batch 400, current loss 0.6845095872879028\n",
      "epoch 3, batch 410, current loss 0.6754330456256866\n",
      "epoch 3, batch 420, current loss 0.6853187084197998\n",
      "epoch 3, batch 430, current loss 0.6880646586418152\n",
      "epoch 3, batch 440, current loss 0.6759145319461822\n",
      "epoch 3, batch 450, current loss 0.6823746681213378\n",
      "epoch 3, batch 460, current loss 0.6855892658233642\n",
      "epoch 3, batch 470, current loss 0.6768664538860321\n",
      "epoch 3, batch 480, current loss 0.6884000778198243\n",
      "epoch 3, batch 490, current loss 0.682619160413742\n",
      "epoch 3, batch 500, current loss 0.6818175554275513\n",
      "epoch 3, batch 510, current loss 0.6829463362693786\n",
      "epoch 3, batch 520, current loss 0.6792926371097565\n",
      "epoch 3, batch 530, current loss 0.67149338722229\n",
      "epoch 3, batch 540, current loss 0.6770226359367371\n",
      "epoch 3, batch 550, current loss 0.6791421473026276\n",
      "epoch 3, batch 560, current loss 0.6747295260429382\n",
      "epoch 3, batch 570, current loss 0.6791463732719422\n",
      "epoch 3, batch 580, current loss 0.6707322418689727\n",
      "epoch 3, batch 590, current loss 0.6831382572650909\n",
      "epoch 3, batch 600, current loss 0.6747170805931091\n",
      "epoch 3, batch 610, current loss 0.6892287790775299\n",
      "epoch 3, batch 620, current loss 0.6824252843856812\n",
      "epoch 3, batch 630, current loss 0.6709142625331879\n",
      "epoch 3, batch 640, current loss 0.6887648820877075\n",
      "epoch 3, batch 650, current loss 0.6822779893875122\n",
      "epoch 3, batch 660, current loss 0.6678804337978363\n",
      "epoch 3, batch 670, current loss 0.6777470827102661\n",
      "epoch 3, batch 680, current loss 0.6757754266262055\n",
      "epoch 3, batch 690, current loss 0.6777357995510102\n"
     ]
    }
   ],
   "source": [
    "device = torch.device(\"cuda:0\" if torch.cuda.is_available() else \"cpu\")\n",
    "net = VGG_net()\n",
    "#net.apply(weight_init)\n",
    "if torch.cuda.device_count() > 1:\n",
    "    print(\"Let's use\", torch.cuda.device_count(), \"GPUs!\")\n",
    "    net = nn.DataParallel(net)\n",
    "net.to(device)\n",
    "print(\"There are {} parameters in the model\".format(count_parameters(net)))\n",
    "\n",
    "num_epochs = 3\n",
    "criterion = nn.CrossEntropyLoss(weight=torch.FloatTensor([1.3,1.0]).to(device))\n",
    "optimizer = optim.SGD(net.parameters(), lr=0.01, momentum=0.9, weight_decay=0.00001)\n",
    "print('choose SGD as optimizer')\n",
    "#optimizer = optim.Adam(net.parameters(), lr=args.lr*10, weight_decay=0.00001)\n",
    "#print('choose Adam as optimizer')\n",
    "\n",
    "scheduler = optim.lr_scheduler.StepLR(optimizer, step_size=2, gamma=0.1)\n",
    "for epoch in range(num_epochs):\n",
    "    scheduler.step()\n",
    "    idx1=np.random.choice(range(len(train_idx)),89600,replace=False)\n",
    "    train_data_shuffle =[train_idx[idx1[i]] for i in range(len(idx1))]\n",
    "    Mouse_dataset = Mouse_sub_volumes(all_train_data,train_data_shuffle,\n",
    "                                     transform=transforms.Compose([Rotate(),Flip()]))\n",
    "    dataloader = DataLoader(Mouse_dataset, batch_size=128,\n",
    "                        shuffle=True, num_workers=4)\n",
    "    train(net, device, dataloader, optimizer, criterion, epoch)"
   ]
  },
  {
   "cell_type": "code",
   "execution_count": 22,
   "metadata": {},
   "outputs": [
    {
     "name": "stdout",
     "output_type": "stream",
     "text": [
      "248032\n",
      "31804\n"
     ]
    }
   ],
   "source": [
    "print(len(train_idx))\n",
    "print(len(test_idx))"
   ]
  },
  {
   "cell_type": "code",
   "execution_count": 23,
   "metadata": {},
   "outputs": [
    {
     "name": "stdout",
     "output_type": "stream",
     "text": [
      "Let's use 2 GPUs!\n",
      "There are 247842 parameters in the model\n"
     ]
    }
   ],
   "source": [
    "device = torch.device(\"cuda:0\" if torch.cuda.is_available() else \"cpu\")\n",
    "net = VGG_net()\n",
    "#net.apply(weight_init)\n",
    "if torch.cuda.device_count() > 1:\n",
    "    print(\"Let's use\", torch.cuda.device_count(), \"GPUs!\")\n",
    "    net = nn.DataParallel(net)\n",
    "net.to(device)\n",
    "print(\"There are {} parameters in the model\".format(count_parameters(net)))"
   ]
  },
  {
   "cell_type": "code",
   "execution_count": 24,
   "metadata": {},
   "outputs": [],
   "source": [
    "def test(model, device, test_loader):\n",
    "    model.eval()\n",
    "    correct_num = 0\n",
    "    total_num = 0\n",
    "    positive_correct=0\n",
    "    positive_num=0\n",
    "    negative_correct=0\n",
    "    negative_num=0\n",
    "    \n",
    "    with torch.no_grad():\n",
    "        for i_batch, sample_batched in enumerate(test_loader):\n",
    "            inputs, labels = sample_batched['image'], sample_batched['label']  \n",
    "            inputs = inputs.to(device)\n",
    "            # forward + backward + optimize\n",
    "            outputs = model(inputs)\n",
    "            _, predicted = torch.max(outputs, 1)\n",
    "            correct_num+=np.sum(predicted.cpu().numpy()==labels.numpy())\n",
    "            total_num+=len(labels)\n",
    "            positive_correct+=np.sum(predicted.cpu().numpy()*labels.numpy())\n",
    "            positive_num+=np.sum(labels.numpy())\n",
    "            negative_correct+=np.sum((1-predicted.cpu().numpy())*(1-labels.numpy()))\n",
    "            negative_num+=np.sum(1-labels.numpy())\n",
    "            \n",
    "    print('total_num:{}, test accuracy:{}, positive_acc:{}, negative_acc:{}'.format(total_num,\n",
    "                                                                                   correct_num/total_num,\n",
    "                                                                                    positive_correct/positive_num,\n",
    "                                                                                    negative_correct/negative_num\n",
    "                                                                                    ))"
   ]
  },
  {
   "cell_type": "code",
   "execution_count": null,
   "metadata": {},
   "outputs": [],
   "source": [
    "torch.save(net.state_dict(), './model/mut_clas_e1_v0105_2.pth')"
   ]
  },
  {
   "cell_type": "code",
   "execution_count": null,
   "metadata": {},
   "outputs": [],
   "source": [
    "net.load_state_dict(torch.load('./model/mut_clas_e1_v1107.pth'))"
   ]
  },
  {
   "cell_type": "code",
   "execution_count": null,
   "metadata": {},
   "outputs": [],
   "source": [
    "print('train accuracy: ')\n",
    "Mouse_dataset = Mouse_sub_volumes(all_train_data,train_idx)\n",
    "train_dataloader = DataLoader(Mouse_dataset, batch_size=128,\n",
    "                        shuffle=False, num_workers=4)\n",
    "test(net, device, train_dataloader)"
   ]
  },
  {
   "cell_type": "code",
   "execution_count": 28,
   "metadata": {},
   "outputs": [
    {
     "name": "stdout",
     "output_type": "stream",
     "text": [
      "test accuracy: \n",
      "total_num:31804, test accuracy:0.4278707080870331, positive_acc:1.0, negative_acc:0.0\n"
     ]
    }
   ],
   "source": [
    "print('test accuracy: ')\n",
    "Mouse_dataset = Mouse_sub_volumes(all_train_data,test_idx)\n",
    "test_dataloader = DataLoader(Mouse_dataset, batch_size=128,\n",
    "                        shuffle=False, num_workers=4)\n",
    "test_dic = test2(net, device, test_dataloader, test_img_list)"
   ]
  },
  {
   "cell_type": "code",
   "execution_count": 29,
   "metadata": {},
   "outputs": [
    {
     "name": "stdout",
     "output_type": "stream",
     "text": [
      "{25: ['pred_as_nor', 'true_as_mul'], 103: ['pred_as_nor', 'true_as_mul'], 188: ['pred_as_nor', 'true_as_mul'], 221: ['pred_as_nor', 'true_as_mul'], 258: ['pred_as_nor', 'true_as_mul'], 307: ['pred_as_nor', 'true_as_mul'], 356: ['pred_as_nor', 'true_as_mul'], 366: ['pred_as_nor', 'true_as_mul'], 427: ['pred_as_nor', 'true_as_mul'], 454: ['pred_as_nor', 'true_as_mul'], 507: ['pred_as_nor', 'true_as_mul'], 555: ['pred_as_nor', 'true_as_mul'], 4: ['pred_as_nor', 'true_as_nor'], 13: ['pred_as_nor', 'true_as_nor'], 22: ['pred_as_nor', 'true_as_nor'], 32: ['pred_as_nor', 'true_as_nor'], 41: ['pred_as_nor', 'true_as_nor'], 53: ['pred_as_nor', 'true_as_nor'], 62: ['pred_as_nor', 'true_as_nor'], 71: ['pred_as_nor', 'true_as_nor'], 80: ['pred_as_nor', 'true_as_nor'], 90: ['pred_as_nor', 'true_as_nor'], 104: ['pred_as_nor', 'true_as_nor'], 114: ['pred_as_nor', 'true_as_nor'], 123: ['pred_as_nor', 'true_as_nor'], 133: ['pred_as_nor', 'true_as_nor'], 144: ['pred_as_nor', 'true_as_nor'], 155: ['pred_as_nor', 'true_as_nor'], 164: ['pred_as_nor', 'true_as_nor'], 173: ['pred_as_nor', 'true_as_nor'], 182: ['pred_as_nor', 'true_as_nor'], 199: ['pred_as_nor', 'true_as_nor'], 209: ['pred_as_nor', 'true_as_nor'], 220: ['pred_as_nor', 'true_as_nor'], 230: ['pred_as_nor', 'true_as_nor'], 243: ['pred_as_nor', 'true_as_nor'], 252: ['pred_as_nor', 'true_as_nor'], 266: ['pred_as_nor', 'true_as_nor'], 276: ['pred_as_nor', 'true_as_nor'], 285: ['pred_as_nor', 'true_as_nor'], 297: ['pred_as_nor', 'true_as_nor'], 311: ['pred_as_nor', 'true_as_nor'], 322: ['pred_as_nor', 'true_as_nor'], 331: ['pred_as_nor', 'true_as_nor'], 345: ['pred_as_nor', 'true_as_nor'], 355: ['pred_as_nor', 'true_as_nor'], 374: ['pred_as_nor', 'true_as_nor'], 383: ['pred_as_nor', 'true_as_nor'], 392: ['pred_as_nor', 'true_as_nor'], 401: ['pred_as_nor', 'true_as_nor'], 412: ['pred_as_nor', 'true_as_nor'], 430: ['pred_as_nor', 'true_as_nor'], 442: ['pred_as_nor', 'true_as_nor'], 456: ['pred_as_nor', 'true_as_nor'], 468: ['pred_as_nor', 'true_as_nor'], 477: ['pred_as_nor', 'true_as_nor'], 487: ['pred_as_nor', 'true_as_nor'], 498: ['pred_as_nor', 'true_as_nor'], 511: ['pred_as_nor', 'true_as_nor'], 522: ['pred_as_nor', 'true_as_nor'], 532: ['pred_as_nor', 'true_as_nor'], 541: ['pred_as_nor', 'true_as_nor'], 552: ['pred_as_nor', 'true_as_nor'], 564: ['pred_as_nor', 'true_as_nor']}\n"
     ]
    }
   ],
   "source": [
    "import copy\n",
    "test_dic2 = copy.deepcopy(test_dic)\n",
    "for key in test_dic:\n",
    "    if test_dic[key][0] > test_dic[key][1]:\n",
    "        test_dic2[key][0] = 'pred_as_mul'\n",
    "    else:\n",
    "        test_dic2[key][0] = 'pred_as_nor'\n",
    "    if key in test_mutant_list:\n",
    "        test_dic2[key][1] = 'true_as_mul'\n",
    "    elif key in test_normal_list:\n",
    "        test_dic2[key][1] = 'true_as_nor'\n",
    "print(test_dic2)"
   ]
  },
  {
   "cell_type": "code",
   "execution_count": 30,
   "metadata": {},
   "outputs": [
    {
     "name": "stdout",
     "output_type": "stream",
     "text": [
      "{25: 0.0, 103: 0.0, 188: 0.0, 221: 0.0, 258: 0.0, 307: 0.0, 356: 0.0, 366: 0.0, 427: 0.0, 454: 0.0, 507: 0.0, 555: 0.0, 4: 0.0, 13: 0.0, 22: 0.0, 32: 0.0, 41: 0.0, 53: 0.0, 62: 0.0, 71: 0.0, 80: 0.0, 90: 0.0, 104: 0.0, 114: 0.0, 123: 0.0, 133: 0.0, 144: 0.0, 155: 0.0, 164: 0.0, 173: 0.0, 182: 0.0, 199: 0.0, 209: 0.0, 220: 0.0, 230: 0.0, 243: 0.0, 252: 0.0, 266: 0.0, 276: 0.0, 285: 0.0, 297: 0.0, 311: 0.0, 322: 0.0, 331: 0.0, 345: 0.0, 355: 0.0, 374: 0.0, 383: 0.0, 392: 0.0, 401: 0.0, 412: 0.0, 430: 0.0, 442: 0.0, 456: 0.0, 468: 0.0, 477: 0.0, 487: 0.0, 498: 0.0, 511: 0.0, 522: 0.0, 532: 0.0, 541: 0.0, 552: 0.0, 564: 0.0}\n"
     ]
    }
   ],
   "source": [
    "test_dic3 = {}\n",
    "for key in test_dic:\n",
    "        test_dic3[key] = test_dic[key][0]/(test_dic[key][0]+test_dic[key][1])\n",
    "print(test_dic3)"
   ]
  },
  {
   "cell_type": "code",
   "execution_count": 31,
   "metadata": {},
   "outputs": [
    {
     "name": "stdout",
     "output_type": "stream",
     "text": [
      "[[  0.  12.]\n",
      " [  0.  52.]]\n",
      "[25, 103, 188, 221, 258, 307, 356, 366, 427, 454, 507, 555]\n",
      "[]\n"
     ]
    }
   ],
   "source": [
    "cross_table = np.zeros([2,2])\n",
    "mut_to_nor = []\n",
    "nor_to_mul = []\n",
    "thre = 0.5\n",
    "for key in test_dic:\n",
    "    if test_dic3[key] >= thre and key in test_mutant_list:\n",
    "        cross_table[0,0] += 1\n",
    "    elif  test_dic3[key] < thre and key in test_mutant_list:\n",
    "        cross_table[0,1] += 1\n",
    "        mut_to_nor.append(key)\n",
    "    elif test_dic3[key] >= thre and key in test_normal_list:\n",
    "        cross_table[1,0] += 1\n",
    "        nor_to_mul.append(key)\n",
    "    elif test_dic3[key] < thre and key in test_normal_list:\n",
    "        cross_table[1,1] += 1\n",
    "print(cross_table)\n",
    "print(mut_to_nor)\n",
    "print(nor_to_mul)"
   ]
  },
  {
   "cell_type": "code",
   "execution_count": null,
   "metadata": {},
   "outputs": [],
   "source": []
  },
  {
   "cell_type": "code",
   "execution_count": null,
   "metadata": {},
   "outputs": [],
   "source": [
    "for i in mut_to_nor:\n",
    "    print(i, ': ', test_dic[i])"
   ]
  },
  {
   "cell_type": "code",
   "execution_count": null,
   "metadata": {},
   "outputs": [],
   "source": [
    "for i in nor_to_mul:\n",
    "    print(i, ': ', test_dic[i])"
   ]
  },
  {
   "cell_type": "code",
   "execution_count": null,
   "metadata": {},
   "outputs": [],
   "source": [
    "for i in mut_to_nor:\n",
    "    print(i)\n",
    "    img_nft = nib.Nifti1Image(np.squeeze(all_train_data[i]),np.eye(4))\n",
    "    img_save_data_path = './img/mul_img{}.nii'.format(i)\n",
    "    nib.save(img_nft,img_save_data_path)"
   ]
  },
  {
   "cell_type": "code",
   "execution_count": null,
   "metadata": {},
   "outputs": [],
   "source": [
    "for i in nor_to_mul:\n",
    "    print(i)\n",
    "    img_nft = nib.Nifti1Image(np.squeeze(all_train_data[i]),np.eye(4))\n",
    "    img_save_data_path = './img/mul_img{}.nii'.format(i)\n",
    "    nib.save(img_nft,img_save_data_path)"
   ]
  },
  {
   "cell_type": "code",
   "execution_count": 27,
   "metadata": {},
   "outputs": [],
   "source": [
    "def test2(model, device, test_loader, test_img_list):\n",
    "    model.eval()\n",
    "    correct_num = 0\n",
    "    total_num = 0\n",
    "    positive_correct=0\n",
    "    positive_num=0\n",
    "    negative_correct=0\n",
    "    negative_num=0\n",
    "    test_dic = {}\n",
    "    for idx in test_img_list:\n",
    "        test_dic[idx] = [0,0]\n",
    "        \n",
    "    with torch.no_grad():\n",
    "        for i_batch, sample_batched in enumerate(test_loader):\n",
    "            inputs, labels, current_img = sample_batched['image'], sample_batched['label'], sample_batched['img_idx']    \n",
    "            inputs = inputs.to(device)\n",
    "            current_img = current_img.numpy()\n",
    "            # forward + backward + optimize\n",
    "            outputs = model(inputs)\n",
    "            _, predicted = torch.max(outputs, 1)\n",
    "            for i in range(len(labels)):\n",
    "                test_dic[current_img[i]][predicted[i].cpu().numpy()] +=1\n",
    "            correct_num+=np.sum(predicted.cpu().numpy()==labels.numpy())\n",
    "            total_num+=len(labels)\n",
    "            positive_correct+=np.sum(predicted.cpu().numpy()*labels.numpy())\n",
    "            positive_num+=np.sum(labels.numpy())\n",
    "            negative_correct+=np.sum((1-predicted.cpu().numpy())*(1-labels.numpy()))\n",
    "            negative_num+=np.sum(1-labels.numpy())\n",
    "            \n",
    "    print('total_num:{}, test accuracy:{}, positive_acc:{}, negative_acc:{}'.format(total_num,\n",
    "                                                                                   correct_num/total_num,\n",
    "                                                                                    positive_correct/positive_num,\n",
    "                                                                                    negative_correct/negative_num\n",
    "                                                                                    ))\n",
    "    return test_dic"
   ]
  },
  {
   "cell_type": "code",
   "execution_count": null,
   "metadata": {},
   "outputs": [],
   "source": [
    "import pandas as pd"
   ]
  },
  {
   "cell_type": "code",
   "execution_count": null,
   "metadata": {},
   "outputs": [],
   "source": [
    "df = pd.DataFrame(cross_table, index=['multant','normal'],columns=['pred as mul','pred as nor'])\n",
    "print(df)"
   ]
  },
  {
   "cell_type": "code",
   "execution_count": null,
   "metadata": {},
   "outputs": [],
   "source": []
  }
 ],
 "metadata": {
  "kernelspec": {
   "display_name": "Python 3",
   "language": "python",
   "name": "python3"
  },
  "language_info": {
   "codemirror_mode": {
    "name": "ipython",
    "version": 3
   },
   "file_extension": ".py",
   "mimetype": "text/x-python",
   "name": "python",
   "nbconvert_exporter": "python",
   "pygments_lexer": "ipython3",
   "version": "3.6.3"
  }
 },
 "nbformat": 4,
 "nbformat_minor": 2
}
